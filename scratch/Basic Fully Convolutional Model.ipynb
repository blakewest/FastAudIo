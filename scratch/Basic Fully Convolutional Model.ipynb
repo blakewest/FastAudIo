{
 "cells": [
  {
   "cell_type": "code",
   "execution_count": 1,
   "metadata": {},
   "outputs": [
    {
     "name": "stderr",
     "output_type": "stream",
     "text": [
      "/Users/blakewest/anaconda/envs/fastaudio/lib/python3.6/site-packages/sklearn/cross_validation.py:41: DeprecationWarning: This module was deprecated in version 0.18 in favor of the model_selection module into which all the refactored classes and functions are moved. Also note that the interface of the new CV iterators are different from that of this module. This module will be removed in 0.20.\n",
      "  \"This module will be removed in 0.20.\", DeprecationWarning)\n"
     ]
    }
   ],
   "source": [
    "%load_ext autoreload\n",
    "%autoreload 2\n",
    "import numpy as np\n",
    "import os\n",
    "import shutil\n",
    "import IPython\n",
    "import IPython.display as ipd\n",
    "import matplotlib\n",
    "import matplotlib.pyplot as plt\n",
    "import pandas as pd\n",
    "import seaborn as sns\n",
    "import librosa\n",
    "from scipy.io import wavfile\n",
    "from tqdm import tqdm_notebook\n",
    "from sklearn.cross_validation import StratifiedKFold\n",
    "from pathlib import Path\n",
    "import torch\n",
    "from fastai import *\n",
    "from fastai.dataset import *\n",
    "from fastai.learner import *\n",
    "from fastai.text import *\n",
    "from shutil import copyfile\n",
    "from operator import itemgetter\n",
    "\n",
    "\n",
    "%matplotlib inline\n",
    "matplotlib.style.use('ggplot')\n",
    "# torch.cuda.set_device(0)"
   ]
  },
  {
   "cell_type": "code",
   "execution_count": 2,
   "metadata": {},
   "outputs": [],
   "source": [
    "DATA_PATH = Path('./data/freesound')\n",
    "TRN_PATH = Path('./data/freesound/audio_train')\n",
    "# TEST_PATH = Path('./data/freesound/audio_test')\n",
    "LABEL_PATH = Path('./data/freesound/train.csv')\n",
    "# SAMPLE_SUBMISSION_PATH = Path('./data/freesound/sample_submission.csv')"
   ]
  },
  {
   "cell_type": "code",
   "execution_count": 3,
   "metadata": {},
   "outputs": [
    {
     "ename": "FileNotFoundError",
     "evalue": "File b'data/freesound/train.csv' does not exist",
     "output_type": "error",
     "traceback": [
      "\u001b[0;31m---------------------------------------------------------------------------\u001b[0m",
      "\u001b[0;31mFileNotFoundError\u001b[0m                         Traceback (most recent call last)",
      "\u001b[0;32m<ipython-input-3-e133676c9917>\u001b[0m in \u001b[0;36m<module>\u001b[0;34m()\u001b[0m\n\u001b[0;32m----> 1\u001b[0;31m \u001b[0mtrain\u001b[0m \u001b[0;34m=\u001b[0m \u001b[0mpd\u001b[0m\u001b[0;34m.\u001b[0m\u001b[0mread_csv\u001b[0m\u001b[0;34m(\u001b[0m\u001b[0mLABEL_PATH\u001b[0m\u001b[0;34m)\u001b[0m\u001b[0;34m\u001b[0m\u001b[0m\n\u001b[0m",
      "\u001b[0;32m~/anaconda/envs/fastaudio/lib/python3.6/site-packages/pandas/io/parsers.py\u001b[0m in \u001b[0;36mparser_f\u001b[0;34m(filepath_or_buffer, sep, delimiter, header, names, index_col, usecols, squeeze, prefix, mangle_dupe_cols, dtype, engine, converters, true_values, false_values, skipinitialspace, skiprows, nrows, na_values, keep_default_na, na_filter, verbose, skip_blank_lines, parse_dates, infer_datetime_format, keep_date_col, date_parser, dayfirst, iterator, chunksize, compression, thousands, decimal, lineterminator, quotechar, quoting, escapechar, comment, encoding, dialect, tupleize_cols, error_bad_lines, warn_bad_lines, skipfooter, doublequote, delim_whitespace, low_memory, memory_map, float_precision)\u001b[0m\n\u001b[1;32m    676\u001b[0m                     skip_blank_lines=skip_blank_lines)\n\u001b[1;32m    677\u001b[0m \u001b[0;34m\u001b[0m\u001b[0m\n\u001b[0;32m--> 678\u001b[0;31m         \u001b[0;32mreturn\u001b[0m \u001b[0m_read\u001b[0m\u001b[0;34m(\u001b[0m\u001b[0mfilepath_or_buffer\u001b[0m\u001b[0;34m,\u001b[0m \u001b[0mkwds\u001b[0m\u001b[0;34m)\u001b[0m\u001b[0;34m\u001b[0m\u001b[0m\n\u001b[0m\u001b[1;32m    679\u001b[0m \u001b[0;34m\u001b[0m\u001b[0m\n\u001b[1;32m    680\u001b[0m     \u001b[0mparser_f\u001b[0m\u001b[0;34m.\u001b[0m\u001b[0m__name__\u001b[0m \u001b[0;34m=\u001b[0m \u001b[0mname\u001b[0m\u001b[0;34m\u001b[0m\u001b[0m\n",
      "\u001b[0;32m~/anaconda/envs/fastaudio/lib/python3.6/site-packages/pandas/io/parsers.py\u001b[0m in \u001b[0;36m_read\u001b[0;34m(filepath_or_buffer, kwds)\u001b[0m\n\u001b[1;32m    438\u001b[0m \u001b[0;34m\u001b[0m\u001b[0m\n\u001b[1;32m    439\u001b[0m     \u001b[0;31m# Create the parser.\u001b[0m\u001b[0;34m\u001b[0m\u001b[0;34m\u001b[0m\u001b[0m\n\u001b[0;32m--> 440\u001b[0;31m     \u001b[0mparser\u001b[0m \u001b[0;34m=\u001b[0m \u001b[0mTextFileReader\u001b[0m\u001b[0;34m(\u001b[0m\u001b[0mfilepath_or_buffer\u001b[0m\u001b[0;34m,\u001b[0m \u001b[0;34m**\u001b[0m\u001b[0mkwds\u001b[0m\u001b[0;34m)\u001b[0m\u001b[0;34m\u001b[0m\u001b[0m\n\u001b[0m\u001b[1;32m    441\u001b[0m \u001b[0;34m\u001b[0m\u001b[0m\n\u001b[1;32m    442\u001b[0m     \u001b[0;32mif\u001b[0m \u001b[0mchunksize\u001b[0m \u001b[0;32mor\u001b[0m \u001b[0miterator\u001b[0m\u001b[0;34m:\u001b[0m\u001b[0;34m\u001b[0m\u001b[0m\n",
      "\u001b[0;32m~/anaconda/envs/fastaudio/lib/python3.6/site-packages/pandas/io/parsers.py\u001b[0m in \u001b[0;36m__init__\u001b[0;34m(self, f, engine, **kwds)\u001b[0m\n\u001b[1;32m    785\u001b[0m             \u001b[0mself\u001b[0m\u001b[0;34m.\u001b[0m\u001b[0moptions\u001b[0m\u001b[0;34m[\u001b[0m\u001b[0;34m'has_index_names'\u001b[0m\u001b[0;34m]\u001b[0m \u001b[0;34m=\u001b[0m \u001b[0mkwds\u001b[0m\u001b[0;34m[\u001b[0m\u001b[0;34m'has_index_names'\u001b[0m\u001b[0;34m]\u001b[0m\u001b[0;34m\u001b[0m\u001b[0m\n\u001b[1;32m    786\u001b[0m \u001b[0;34m\u001b[0m\u001b[0m\n\u001b[0;32m--> 787\u001b[0;31m         \u001b[0mself\u001b[0m\u001b[0;34m.\u001b[0m\u001b[0m_make_engine\u001b[0m\u001b[0;34m(\u001b[0m\u001b[0mself\u001b[0m\u001b[0;34m.\u001b[0m\u001b[0mengine\u001b[0m\u001b[0;34m)\u001b[0m\u001b[0;34m\u001b[0m\u001b[0m\n\u001b[0m\u001b[1;32m    788\u001b[0m \u001b[0;34m\u001b[0m\u001b[0m\n\u001b[1;32m    789\u001b[0m     \u001b[0;32mdef\u001b[0m \u001b[0mclose\u001b[0m\u001b[0;34m(\u001b[0m\u001b[0mself\u001b[0m\u001b[0;34m)\u001b[0m\u001b[0;34m:\u001b[0m\u001b[0;34m\u001b[0m\u001b[0m\n",
      "\u001b[0;32m~/anaconda/envs/fastaudio/lib/python3.6/site-packages/pandas/io/parsers.py\u001b[0m in \u001b[0;36m_make_engine\u001b[0;34m(self, engine)\u001b[0m\n\u001b[1;32m   1012\u001b[0m     \u001b[0;32mdef\u001b[0m \u001b[0m_make_engine\u001b[0m\u001b[0;34m(\u001b[0m\u001b[0mself\u001b[0m\u001b[0;34m,\u001b[0m \u001b[0mengine\u001b[0m\u001b[0;34m=\u001b[0m\u001b[0;34m'c'\u001b[0m\u001b[0;34m)\u001b[0m\u001b[0;34m:\u001b[0m\u001b[0;34m\u001b[0m\u001b[0m\n\u001b[1;32m   1013\u001b[0m         \u001b[0;32mif\u001b[0m \u001b[0mengine\u001b[0m \u001b[0;34m==\u001b[0m \u001b[0;34m'c'\u001b[0m\u001b[0;34m:\u001b[0m\u001b[0;34m\u001b[0m\u001b[0m\n\u001b[0;32m-> 1014\u001b[0;31m             \u001b[0mself\u001b[0m\u001b[0;34m.\u001b[0m\u001b[0m_engine\u001b[0m \u001b[0;34m=\u001b[0m \u001b[0mCParserWrapper\u001b[0m\u001b[0;34m(\u001b[0m\u001b[0mself\u001b[0m\u001b[0;34m.\u001b[0m\u001b[0mf\u001b[0m\u001b[0;34m,\u001b[0m \u001b[0;34m**\u001b[0m\u001b[0mself\u001b[0m\u001b[0;34m.\u001b[0m\u001b[0moptions\u001b[0m\u001b[0;34m)\u001b[0m\u001b[0;34m\u001b[0m\u001b[0m\n\u001b[0m\u001b[1;32m   1015\u001b[0m         \u001b[0;32melse\u001b[0m\u001b[0;34m:\u001b[0m\u001b[0;34m\u001b[0m\u001b[0m\n\u001b[1;32m   1016\u001b[0m             \u001b[0;32mif\u001b[0m \u001b[0mengine\u001b[0m \u001b[0;34m==\u001b[0m \u001b[0;34m'python'\u001b[0m\u001b[0;34m:\u001b[0m\u001b[0;34m\u001b[0m\u001b[0m\n",
      "\u001b[0;32m~/anaconda/envs/fastaudio/lib/python3.6/site-packages/pandas/io/parsers.py\u001b[0m in \u001b[0;36m__init__\u001b[0;34m(self, src, **kwds)\u001b[0m\n\u001b[1;32m   1706\u001b[0m         \u001b[0mkwds\u001b[0m\u001b[0;34m[\u001b[0m\u001b[0;34m'usecols'\u001b[0m\u001b[0;34m]\u001b[0m \u001b[0;34m=\u001b[0m \u001b[0mself\u001b[0m\u001b[0;34m.\u001b[0m\u001b[0musecols\u001b[0m\u001b[0;34m\u001b[0m\u001b[0m\n\u001b[1;32m   1707\u001b[0m \u001b[0;34m\u001b[0m\u001b[0m\n\u001b[0;32m-> 1708\u001b[0;31m         \u001b[0mself\u001b[0m\u001b[0;34m.\u001b[0m\u001b[0m_reader\u001b[0m \u001b[0;34m=\u001b[0m \u001b[0mparsers\u001b[0m\u001b[0;34m.\u001b[0m\u001b[0mTextReader\u001b[0m\u001b[0;34m(\u001b[0m\u001b[0msrc\u001b[0m\u001b[0;34m,\u001b[0m \u001b[0;34m**\u001b[0m\u001b[0mkwds\u001b[0m\u001b[0;34m)\u001b[0m\u001b[0;34m\u001b[0m\u001b[0m\n\u001b[0m\u001b[1;32m   1709\u001b[0m \u001b[0;34m\u001b[0m\u001b[0m\n\u001b[1;32m   1710\u001b[0m         \u001b[0mpassed_names\u001b[0m \u001b[0;34m=\u001b[0m \u001b[0mself\u001b[0m\u001b[0;34m.\u001b[0m\u001b[0mnames\u001b[0m \u001b[0;32mis\u001b[0m \u001b[0;32mNone\u001b[0m\u001b[0;34m\u001b[0m\u001b[0m\n",
      "\u001b[0;32mpandas/_libs/parsers.pyx\u001b[0m in \u001b[0;36mpandas._libs.parsers.TextReader.__cinit__\u001b[0;34m()\u001b[0m\n",
      "\u001b[0;32mpandas/_libs/parsers.pyx\u001b[0m in \u001b[0;36mpandas._libs.parsers.TextReader._setup_parser_source\u001b[0;34m()\u001b[0m\n",
      "\u001b[0;31mFileNotFoundError\u001b[0m: File b'data/freesound/train.csv' does not exist"
     ]
    }
   ],
   "source": [
    "train = pd.read_csv(LABEL_PATH)"
   ]
  },
  {
   "cell_type": "code",
   "execution_count": 17,
   "metadata": {},
   "outputs": [],
   "source": [
    "class BasicAudioModel(nn.Module):\n",
    "    def __init__(self, num_classes, bs):\n",
    "        super().__init__()\n",
    "        self.model = nn.Sequential(\n",
    "            nn.Conv1d(1, 16, 9),\n",
    "            nn.ReLU(),\n",
    "            nn.Conv1d(16, 16, 9),\n",
    "            nn.ReLU(),\n",
    "            nn.MaxPool1d(16),\n",
    "            nn.Dropout(0.1),\n",
    "            nn.Conv1d(16, 32, 3),\n",
    "            nn.ReLU(),\n",
    "            nn.Conv1d(32, 32, 3),\n",
    "            nn.ReLU(),\n",
    "            nn.MaxPool1d(8),\n",
    "            nn.Dropout(0.01),\n",
    "            nn.Conv1d(32, 256, 3),\n",
    "            nn.ReLU(),\n",
    "            nn.Conv1d(256, 256, 3),\n",
    "            nn.Dropout(0.01),\n",
    "            nn.MaxPool1d(4),\n",
    "            nn.Conv1d(256, num_classes, 3),\n",
    "            Lambda(lambda tensor: torch.mean(tensor, 2, keepdim=True)),\n",
    "            Lambda(lambda tensor: tensor.view(tensor.shape[0], -1)),\n",
    "        )\n",
    "\n",
    "    def forward(self, input):\n",
    "        return self.model(input)\n",
    "\n",
    "def get_trn_val_split(x, y, val_pct=0.15):\n",
    "    val_idxs = get_cv_idxs(len(x), val_pct=val_pct)\n",
    "    if isinstance(x, list):\n",
    "        return [([arr[i] for i in val_idxs], [arr[i] for i in range(len(arr)) if i not in val_idxs]) for arr in [x,y]]\n",
    "    else:\n",
    "        return split_by_idx(val_idxs, x, y)\n",
    "\n",
    "class AudioLearner(Learner):\n",
    "    def __init__(self, data, models, **kwargs):\n",
    "        super().__init__(data, models, **kwargs)\n",
    "\n",
    "    def _get_crit(self, data):\n",
    "        return F.cross_entropy\n",
    "\n",
    "def load_audio_from_df(trn_path, trn_df, sample_rate=16000):\n",
    "    return [retrieve_file(str(trn_path) + '/' + trn_df['fname'][i], sample_rate=sample_rate) for i in range(len(trn_df))]\n",
    "\n",
    "def retrieve_file(filepath, sample_rate=16000):\n",
    "    data, _ = librosa.core.load(filepath, sr=sample_rate, res_type='kaiser_fast')\n",
    "    return data\n",
    "\n",
    "def preprocess_audio(audio_files):\n",
    "    norm = librosa.util.normalize\n",
    "    trimmed_xs = [librosa.effects.trim(norm(x))[0] for x in audio_files]\n",
    "    return [x.reshape(1, x.shape[0]) for x in trimmed_xs]\n",
    "\n",
    "def preprocess_ys(labels, one_hot=False):\n",
    "    if isinstance(labels[0], str):\n",
    "        tok2int = {v:k for k,v in enumerate(np.unique(labels))}\n",
    "        labels = np.array([tok2int[tok] for tok in labels])\n",
    "    num_classes = len(np.unique(labels))\n",
    "    if one_hot:\n",
    "        return [one_hot(labels[i], num_classes).reshape(1, num_classes) for i in range(len(labels))]\n",
    "    else:\n",
    "        return labels\n",
    "\n",
    "class AudioModelData():\n",
    "    def __init__(self, path, trn_ds, val_ds, test_ds=None, bs=64, sample_rate=16000):\n",
    "        self.path = path\n",
    "        self.bs = bs\n",
    "        self.trn_ds, self.val_ds, self.test_ds = trn_ds, val_ds, test_ds\n",
    "        self.trn_dl = AudioDataLoader(trn_ds, bs, sampler=SortishSampler(trn_ds, key=lambda x: len(trn_ds[x][0][0]), bs=bs))\n",
    "        self.val_dl = AudioDataLoader(val_ds, bs, sampler=SortishSampler(val_ds, key=lambda x: len(val_ds[x][0][0]), bs=bs))\n",
    "        self.test_dl = AudioDataLoader(test_ds, bs, sampler=SortishSampler(test_ds, key=lambda x: len(test_ds[x][0][0]),bs=bs)) if test_ds is not None else None\n",
    "        self.num_classes = self.trn_dl.dataset.get_c()\n",
    "\n",
    "    @classmethod\n",
    "    def from_path_and_dataframes(cls, trn_path, trn_df, test_path=None, test_df=None, val_path=None, val_df=None, val_pct=0.15, model_path='./', bs=64):\n",
    "        xs = load_audio_from_df(trn_path, trn_df)\n",
    "        xs = preprocess_audio(x)\n",
    "        ys = preprocess_ys(trn_df['label'])\n",
    "        if test_path is not None:\n",
    "            text_xs = load_audio_from_df(test_path, test_df)\n",
    "            text_xs = preprocess_audio(test_xs)\n",
    "        else:\n",
    "            test_x = None\n",
    "        return cls.from_array(xs, ys, test_xs, bs=bs)\n",
    "\n",
    "    @classmethod\n",
    "    def from_array(cls, trn_x, trn_y, test_x=None, val_pct=0.15, bs=64, model_path=\"./\", **kwargs):\n",
    "        ((val_x, trn_x), (val_y, trn_y)) = get_trn_val_split(trn_x, trn_y, val_pct)\n",
    "        trn_ds = AudioDataset(trn_x, trn_y)\n",
    "        val_ds = AudioDataset(val_x, val_y)\n",
    "        test_ds = AudioDataset(test_x, test_y) if test_x is not None else None\n",
    "        return cls(model_path, trn_ds, val_ds, test_ds, bs=bs)\n",
    "\n",
    "    def get_model(self, optimizer=torch.optim.Adam):\n",
    "        basic_model = BasicAudioModel(self.num_classes, self.bs)\n",
    "        model = SingleModel(to_gpu(basic_model))\n",
    "        return AudioLearner(self, model, opt_fn=optimizer)\n",
    "\n",
    "class AudioDataLoader(DataLoader):\n",
    "    def get_batch(self, indexes):\n",
    "        batch_data = [self.dataset[i] for i in indexes]\n",
    "        x_lens = [len(item[0][0]) for item in batch_data]\n",
    "        if len(np.unique(x_lens)) > 1:\n",
    "            max_len = np.max(x_lens)\n",
    "            for i, item in enumerate(batch_data):\n",
    "                item = list(item)\n",
    "                clip_len = len(item[0][0])\n",
    "                item[0] = np.pad(item[0], ((0,0), (0, max_len-clip_len)), 'wrap')\n",
    "                batch_data[i] = tuple(item)\n",
    "        return self.np_collate(batch_data)\n",
    "    \n",
    "class AudioDataLoader(DataLoader):\n",
    "    def get_batch(self, indexes):\n",
    "        batch_data = [self.dataset[i] for i in indexes]\n",
    "        x_lens = [item[0].shape[1] for item in batch_data]\n",
    "        if len(np.unique(x_lens)) > 1:\n",
    "            max_len = np.max(x_lens)\n",
    "            for i, item in enumerate(batch_data):\n",
    "                x, y = item\n",
    "                clip_len = x.shape[1]\n",
    "                pad_mode = 'wrap' if clip_len > 1 else 'constant'\n",
    "                x = np.pad(x, ((0, 0), (0, max_len-clip_len)), pad_mode)\n",
    "                batch_data[i] = x, y\n",
    "        return self.np_collate(batch_data)\n",
    "\n",
    "class AudioDataset(BaseDataset):\n",
    "    def __init__(self, xs, ys, transforms=None):\n",
    "        if isinstance(ys[0], str):\n",
    "            ys = preprocess_ys(ys)\n",
    "        self.ys = ys\n",
    "        self.xs = xs\n",
    "        assert(len(xs) == len(ys)), \"Length of xs does not equal length of ys\"\n",
    "        super().__init__(transforms)\n",
    "\n",
    "    def get_x(self, i):\n",
    "        return self.xs[i]\n",
    "\n",
    "    def get_y(self, i):\n",
    "        return self.ys[i]\n",
    "\n",
    "    def get_n(self):\n",
    "        return len(self.xs)\n",
    "\n",
    "    def get_sz(self):\n",
    "        return self.get_x(1).shape[0]\n",
    "\n",
    "    def get_c(self):\n",
    "        return int(np.max(self.ys) + 1)\n",
    "\n",
    "def create_sample_data(path, percent=0.1, sample_path=None, overwrite=False, labels_df=None):\n",
    "    sample_path = path + '_sample' if sample_path is None else sample_path\n",
    "    if not os.path.exists(sample_path):\n",
    "            print(\"Creating folder for the sample set...\", sample_path)\n",
    "            os.mkdir(sample_path)\n",
    "    existing_sample_files = glob(sample_path + '/*')\n",
    "    if len(existing_sample_files) > 0:\n",
    "        if not overwrite:\n",
    "            print(\"Sample already exists. Pass overwrite=True to delete and redo\")\n",
    "            return\n",
    "        else:\n",
    "            for file in existing_sample_files:\n",
    "                os.remove(file)\n",
    "    print(\"Saving a\", percent * 100, \"percent sample to\", sample_path)\n",
    "    for filepath in glob(path + '/*'):\n",
    "        if np.random.random() < percent:\n",
    "            fname = filepath.split('/')[-1]\n",
    "            copyfile(filepath, sample_path + '/' + fname)\n",
    "    if labels_df:\n",
    "        sample_fnames = [filepath.split('/')[-1] for filepath in glob(sample_path + '/*')]\n",
    "        labels_df[labels_df['fname'].isin(sample_fnames)].to_csv(path + '../train_sample.csv')\n",
    "\n",
    "def save_data(data, filename):\n",
    "    with open(filename, 'wb') as outfile:\n",
    "        pickle.dump(data, outfile, pickle.HIGHEST_PROTOCOL)\n",
    "\n",
    "def load_data(filename):\n",
    "    with open(filename, 'rb') as infile:\n",
    "        result = pickle.load(infile)\n",
    "    return result\n",
    "\n",
    "def display_sample(train, category=None):\n",
    "    sample = train[train['label'] == category].sample() if category else train.sample()\n",
    "    fname = str(TRN_PATH/sample['fname'].values[0])\n",
    "    print(sample)\n",
    "    return ipd.Audio(fname)\n",
    "\n",
    "def munge_and_save_data(trn_path, trn_df, x_filepath, y_filepath):\n",
    "    print(\"Loading files...\")\n",
    "    xs = load_audio_from_df(trn_path, trn_df)\n",
    "    print(\"Processing audio...\")\n",
    "    xs = preprocess_audio(xs)\n",
    "    print(\"Processing labels...\")\n",
    "    ys = preprocess_ys(trn_df['label'])\n",
    "    print(\"Saving xs and ys...\")\n",
    "    save_data(xs, x_filepath)\n",
    "    save_data(ys, y_filepath)\n"
   ]
  },
  {
   "cell_type": "code",
   "execution_count": 5,
   "metadata": {},
   "outputs": [],
   "source": [
    "munge_and_save_data(TRN_PATH, train, x_filepath=DATA_PATH/'all_audio.pkl', y_filepath=DATA_PATH/'all_labels.pkl')"
   ]
  },
  {
   "cell_type": "code",
   "execution_count": 6,
   "metadata": {},
   "outputs": [],
   "source": [
    "xs = load_data(DATA_PATH/'all_audio.pkl')\n",
    "ys = load_data(DATA_PATH/'all_labels.pkl')"
   ]
  },
  {
   "cell_type": "code",
   "execution_count": 20,
   "metadata": {},
   "outputs": [],
   "source": [
    "sample_xs = load_audio_from_df(TRN_PATH, train[:100])"
   ]
  },
  {
   "cell_type": "code",
   "execution_count": 21,
   "metadata": {},
   "outputs": [],
   "source": [
    "sample_xs = preprocess_audio(sample_xs)"
   ]
  },
  {
   "cell_type": "code",
   "execution_count": 7,
   "metadata": {},
   "outputs": [],
   "source": [
    "md = AudioModelData.from_array(xs,ys, bs=16)"
   ]
  },
  {
   "cell_type": "code",
   "execution_count": 8,
   "metadata": {},
   "outputs": [],
   "source": [
    "learner = md.get_model()"
   ]
  },
  {
   "cell_type": "code",
   "execution_count": 17,
   "metadata": {},
   "outputs": [
    {
     "data": {
      "application/vnd.jupyter.widget-view+json": {
       "model_id": "c68a801986d24bbebbedf5e4480a9fa1",
       "version_major": 2,
       "version_minor": 0
      },
      "text/plain": [
       "HBox(children=(IntProgress(value=0, description='Epoch', max=1), HTML(value='')))"
      ]
     },
     "metadata": {},
     "output_type": "display_data"
    },
    {
     "name": "stdout",
     "output_type": "stream",
     "text": [
      " 65%|██████▌   | 329/504 [00:54<00:28,  6.06it/s, loss=41]  "
     ]
    }
   ],
   "source": [
    "learner.lr_find()"
   ]
  },
  {
   "cell_type": "code",
   "execution_count": 20,
   "metadata": {},
   "outputs": [
    {
     "data": {
      "image/png": "[encoded data removed]",
      "text/plain": [
       "<Figure size 432x288 with 1 Axes>"
      ]
     },
     "metadata": {},
     "output_type": "display_data"
    }
   ],
   "source": [
    "learner.sched.plot_lr()"
   ]
  },
  {
   "cell_type": "code",
   "execution_count": 21,
   "metadata": {},
   "outputs": [
    {
     "data": {
      "image/png": "[encoded data removed]",
      "text/plain": [
       "<Figure size 432x288 with 1 Axes>"
      ]
     },
     "metadata": {},
     "output_type": "display_data"
    }
   ],
   "source": [
    "learner.sched.plot_loss()"
   ]
  },
  {
   "cell_type": "code",
   "execution_count": 10,
   "metadata": {},
   "outputs": [
    {
     "data": {
      "application/vnd.jupyter.widget-view+json": {
       "model_id": "e9609e365e01451fa8da43850161f108",
       "version_major": 2,
       "version_minor": 0
      },
      "text/plain": [
       "HBox(children=(IntProgress(value=0, description='Epoch', max=3), HTML(value='')))"
      ]
     },
     "metadata": {},
     "output_type": "display_data"
    },
    {
     "name": "stdout",
     "output_type": "stream",
     "text": [
      "epoch      trn_loss   val_loss   accuracy                   \n",
      "    0      2.480852   4.074373   0.090845  \n",
      "    1      2.199589   3.799305   0.13662                    \n",
      "    2      2.010273   3.394446   0.161972                   \n",
      "\n"
     ]
    },
    {
     "data": {
      "text/plain": [
       "[array([3.39445]), 0.1619718309859155]"
      ]
     },
     "execution_count": 10,
     "metadata": {},
     "output_type": "execute_result"
    }
   ],
   "source": [
    "learner.fit(lrs=0.001, n_cycle=3, metrics=[accuracy])"
   ]
  },
  {
   "cell_type": "code",
   "execution_count": null,
   "metadata": {},
   "outputs": [],
   "source": []
  },
  {
   "cell_type": "code",
   "execution_count": null,
   "metadata": {},
   "outputs": [],
   "source": []
  },
  {
   "cell_type": "code",
   "execution_count": null,
   "metadata": {},
   "outputs": [],
   "source": []
  },
  {
   "cell_type": "code",
   "execution_count": null,
   "metadata": {},
   "outputs": [],
   "source": []
  },
  {
   "cell_type": "code",
   "execution_count": 7,
   "metadata": {},
   "outputs": [],
   "source": [
    "trimmed_xs = [librosa.effects.trim(x[0])[0] for x in xs]\n",
    "trimmed_xs = [file.reshape(1, file.shape[0]) for file in trimmed_xs]\n",
    "xs = trimmed_xs"
   ]
  },
  {
   "cell_type": "code",
   "execution_count": null,
   "metadata": {},
   "outputs": [],
   "source": []
  },
  {
   "cell_type": "code",
   "execution_count": 8,
   "metadata": {},
   "outputs": [],
   "source": [
    "md_trimmed = AudioModelData.from_array(xs,ys, bs=24)"
   ]
  },
  {
   "cell_type": "code",
   "execution_count": 9,
   "metadata": {},
   "outputs": [],
   "source": [
    "learner_trimmed = md_trimmed.get_model()"
   ]
  },
  {
   "cell_type": "code",
   "execution_count": 16,
   "metadata": {},
   "outputs": [
    {
     "data": {
      "application/vnd.jupyter.widget-view+json": {
       "model_id": "6f2899b2a16949afa6e5be8f81ebc552",
       "version_major": 2,
       "version_minor": 0
      },
      "text/plain": [
       "HBox(children=(IntProgress(value=0, description='Epoch', max=10), HTML(value='')))"
      ]
     },
     "metadata": {},
     "output_type": "display_data"
    },
    {
     "name": "stdout",
     "output_type": "stream",
     "text": [
      "epoch      trn_loss   val_loss   accuracy                   \n",
      "    0      3.297386   3.215609   0.122535  \n",
      "    1      2.894773   2.881623   0.239437                   \n",
      "    2      2.513907   2.482352   0.305634                   \n",
      "    3      2.274101   2.445475   0.344366                   \n",
      "    4      2.172393   2.126512   0.438732                   \n",
      "    5      1.98806    2.130189   0.430282                   \n",
      "    6      1.876554   2.120171   0.439437                   \n",
      "    7      1.851672   1.992615   0.466197                   \n",
      "    8      1.758893   1.871196   0.490141                   \n",
      "    9      1.70636    1.80905    0.522535                   \n",
      "\n"
     ]
    },
    {
     "data": {
      "text/plain": [
       "[array([1.80905]), 0.5225352120231574]"
      ]
     },
     "execution_count": 16,
     "metadata": {},
     "output_type": "execute_result"
    }
   ],
   "source": [
    "learner_trimmed.fit(lrs=0.001, n_cycle=10, metrics=[accuracy])"
   ]
  },
  {
   "cell_type": "code",
   "execution_count": 16,
   "metadata": {},
   "outputs": [],
   "source": [
    "learner_trimmed.save(\"base_35_ep\")"
   ]
  },
  {
   "cell_type": "code",
   "execution_count": 10,
   "metadata": {},
   "outputs": [],
   "source": [
    "learner_trimmed.load(\"base_35_ep\")"
   ]
  },
  {
   "cell_type": "code",
   "execution_count": 15,
   "metadata": {},
   "outputs": [
    {
     "data": {
      "application/vnd.jupyter.widget-view+json": {
       "model_id": "8a62b3d8b94449fc99c8698be0996032",
       "version_major": 2,
       "version_minor": 0
      },
      "text/plain": [
       "HBox(children=(IntProgress(value=0, description='Epoch', max=10), HTML(value='')))"
      ]
     },
     "metadata": {},
     "output_type": "display_data"
    },
    {
     "name": "stdout",
     "output_type": "stream",
     "text": [
      "epoch      trn_loss   val_loss   accuracy                   \n",
      "    0      1.143386   1.604731   0.627465  \n",
      "    1      1.128114   1.70371    0.612676                   \n",
      "    2      1.176936   1.663222   0.607746                   \n",
      "    3      1.071632   1.613879   0.63169                    \n",
      "    4      1.02706    1.593437   0.643662                   \n",
      "    5      1.087371   1.722438   0.621127                    \n",
      "    6      1.003911   1.596032   0.642254                    \n",
      "    7      0.956821   1.657607   0.643662                    \n",
      "    8      1.011259   1.622717   0.646479                    \n",
      "    9      0.976065   1.734534   0.633099                    \n",
      "\n"
     ]
    },
    {
     "data": {
      "text/plain": [
       "[array([1.73453]), 0.633098588359188]"
      ]
     },
     "execution_count": 15,
     "metadata": {},
     "output_type": "execute_result"
    }
   ],
   "source": [
    "learner_trimmed.fit(lrs=0.001, n_cycle=10, metrics=[accuracy])"
   ]
  },
  {
   "cell_type": "code",
   "execution_count": null,
   "metadata": {},
   "outputs": [],
   "source": []
  }
 ],
 "metadata": {
  "kernelspec": {
   "display_name": "Python 3",
   "language": "python",
   "name": "python3"
  },
  "language_info": {
   "codemirror_mode": {
    "name": "ipython",
    "version": 3
   },
   "file_extension": ".py",
   "mimetype": "text/x-python",
   "name": "python",
   "nbconvert_exporter": "python",
   "pygments_lexer": "ipython3",
   "version": "3.6.5"
  }
 },
 "nbformat": 4,
 "nbformat_minor": 2
}
