{
 "cells": [
  {
   "cell_type": "code",
   "execution_count": 102,
   "metadata": {},
   "outputs": [],
   "source": [
    "import pandas as pd\n",
    "import numpy as np\n",
    "import IPython.display as ipd\n",
    "import wave\n",
    "import librosa\n",
    "\n",
    "# fastai repo, commit = 5906daacb43458e86754517b38840e4f2155141b\n",
    "\n",
    "from fastai.learner import *\n",
    "from fastai.dataset import *\n",
    "from fastai.dataloader import *\n",
    "torch.cuda.set_device(0)"
   ]
  },
  {
   "cell_type": "code",
   "execution_count": 67,
   "metadata": {},
   "outputs": [],
   "source": [
    "%matplotlib inline\n",
    "import matplotlib.pyplot as plt"
   ]
  },
  {
   "cell_type": "code",
   "execution_count": 68,
   "metadata": {},
   "outputs": [
    {
     "data": {
      "application/javascript": [
       "if (!(\"Notification\" in window)) {\n",
       "    alert(\"This browser does not support desktop notifications, so the %%notify magic will not work.\");\n",
       "} else if (Notification.permission !== 'granted' && Notification.permission !== 'denied') {\n",
       "    Notification.requestPermission(function (permission) {\n",
       "        if(!('permission' in Notification)) {\n",
       "            Notification.permission = permission;\n",
       "        }\n",
       "    })\n",
       "}\n"
      ],
      "text/plain": [
       "<IPython.core.display.Javascript object>"
      ]
     },
     "metadata": {},
     "output_type": "display_data"
    }
   ],
   "source": [
    "%reload_ext jupyternotify\n",
    "%autonotify -a 15"
   ]
  },
  {
   "cell_type": "code",
   "execution_count": 69,
   "metadata": {},
   "outputs": [],
   "source": [
    "PATH = '../data/freesound'"
   ]
  },
  {
   "cell_type": "code",
   "execution_count": 70,
   "metadata": {},
   "outputs": [],
   "source": [
    "df_train = pd.read_csv(f'{PATH}/train.csv')\n",
    "df_test = pd.read_csv(f'{PATH}/sample_submission.csv')"
   ]
  },
  {
   "cell_type": "code",
   "execution_count": 71,
   "metadata": {},
   "outputs": [
    {
     "data": {
      "text/plain": [
       "41"
      ]
     },
     "execution_count": 71,
     "metadata": {},
     "output_type": "execute_result"
    }
   ],
   "source": [
    "len(df_train.label.unique())"
   ]
  },
  {
   "cell_type": "code",
   "execution_count": 72,
   "metadata": {},
   "outputs": [],
   "source": [
    "df_train['nframes'] = df_train.fname.apply(lambda f: wave.open(f'{PATH}/audio_train/{f}').getnframes())\n",
    "df_test['nframes'] = df_test.fname.apply(lambda f: wave.open(f'{PATH}/audio_test/{f}').getnframes())"
   ]
  },
  {
   "cell_type": "code",
   "execution_count": null,
   "metadata": {},
   "outputs": [],
   "source": []
  },
  {
   "cell_type": "markdown",
   "metadata": {},
   "source": [
    "## Data, arch, loss\n",
    "\n",
    "We need 3 things to build the classifier.\n",
    "- Data : a dataloader that build Torch Tensors from Audio files\n",
    "- arch : nn.Sequential, cf the kaggle kernel\n",
    "- loss : F.cross_entropy\n",
    "\n",
    "beware, F.cross_entropy already contains Softmax\n"
   ]
  },
  {
   "cell_type": "code",
   "execution_count": null,
   "metadata": {},
   "outputs": [],
   "source": []
  },
  {
   "cell_type": "markdown",
   "metadata": {},
   "source": [
    "### Data"
   ]
  },
  {
   "cell_type": "code",
   "execution_count": 73,
   "metadata": {},
   "outputs": [],
   "source": [
    "BATCH_SIZE = 64"
   ]
  },
  {
   "cell_type": "code",
   "execution_count": null,
   "metadata": {},
   "outputs": [],
   "source": []
  },
  {
   "cell_type": "code",
   "execution_count": 74,
   "metadata": {},
   "outputs": [],
   "source": [
    "class AudioDataset(torch.utils.data.Dataset):\n",
    "    def __init__(self, df, data_col, target_col=None, framerate=None):\n",
    "        self.df = df\n",
    "        self.data_col = data_col\n",
    "        self.target_col = target_col\n",
    "        self.framerate = framerate\n",
    "        \n",
    "    def __len__(self):\n",
    "        return len(self.df)\n",
    "    \n",
    "    def __getitem__(self, i): \n",
    "        data = self.df.iloc[i][self.data_col]\n",
    "        \n",
    "        input_length = 32000\n",
    "        # Random offset / Padding\n",
    "        if len(data) > input_length:\n",
    "            max_offset = len(data) - input_length\n",
    "            offset = np.random.randint(max_offset)\n",
    "            data = data[offset:(input_length+offset)]\n",
    "        else:\n",
    "            if input_length > len(data):\n",
    "                max_offset = input_length - len(data)\n",
    "                offset = np.random.randint(max_offset)\n",
    "            else:\n",
    "                offset = 0\n",
    "            data = np.pad(data, (offset, input_length - len(data) - offset), \"constant\")        \n",
    "        \n",
    "        return ( np.array(data), self.df.iloc[i][self.target_col] if self.target_col else 0 )"
   ]
  },
  {
   "cell_type": "code",
   "execution_count": 75,
   "metadata": {},
   "outputs": [],
   "source": [
    "#this loads full audio data into the dataframe using librosa in multiprocessing\n",
    "#mode since librosa.core.load is quite slow\n",
    "\n",
    "#there is a bug somewhere in this code\n",
    "#i had to run load_data_to_df 2 or 3 times for it to work. \n",
    "\n",
    "def chunkify(lst,n):\n",
    "    return [lst[i::n] for i in range(n)]\n",
    "\n",
    "def load_data_to_df(df):\n",
    "    df['fulldata'] = None\n",
    "    def process_chunk(chunk):\n",
    "        for ix in tqdm_notebook(chunk):\n",
    "            fn = df.loc[ix, 'fullpath']\n",
    "            df.set_value(ix, 'fulldata', librosa.core.load(fn,16000)[0])     \n",
    "\n",
    "    with ThreadPoolExecutor(16) as pool:\n",
    "        chunks = chunkify(df.index, 16)\n",
    "        pool.map(process_chunk, chunks)\n",
    "        \n"
   ]
  },
  {
   "cell_type": "code",
   "execution_count": 76,
   "metadata": {
    "scrolled": true
   },
   "outputs": [],
   "source": [
    "df_train['fullpath'] = df_train.fname.apply(lambda fn: f'{PATH}/audio_train/{fn}')\n",
    "df_train['label_code'] = df_train.label.astype('category').cat.codes\n",
    "df_test['fullpath'] = df_test.fname.apply(lambda fn: f'{PATH}/audio_test/{fn}')\n",
    "df_test['label_code'] = 0\n",
    "\n",
    "readaudiofiles = False # activate this to read the wav files and convert them to numpy arrays\n",
    "\n",
    "if readaudiofiles:\n",
    "    load_data_to_df(df_train)\n",
    "    load_data_to_df(df_test)\n"
   ]
  },
  {
   "cell_type": "code",
   "execution_count": 77,
   "metadata": {},
   "outputs": [],
   "source": [
    "if readaudiofiles:\n",
    "    for i, o in tqdm_notebook(df_train.iterrows()):\n",
    "        np.save(o.fullpath+'.npy', o.fulldata)\n",
    "    for i, o in tqdm_notebook(df_test.iterrows()):\n",
    "        np.save(o.fullpath+'.npy', o.fulldata)"
   ]
  },
  {
   "cell_type": "code",
   "execution_count": 78,
   "metadata": {},
   "outputs": [],
   "source": [
    "if not readaudiofiles:\n",
    "    df_train['fulldata'] = df_train.fullpath.apply(lambda fn: np.load(fn+'.npy'))\n",
    "    df_test['fulldata'] = df_test.fullpath.apply(lambda fn: np.load(fn+'.npy'))"
   ]
  },
  {
   "cell_type": "code",
   "execution_count": 79,
   "metadata": {},
   "outputs": [],
   "source": [
    "def normalize(a):\n",
    "    a -= a.mean()\n",
    "    return a / abs(a).max()\n",
    "df_test = df_test[df_test.nframes != 0]\n",
    "df_train = df_train[df_train.nframes != 0]\n",
    "df_test['fulldata'] = df_test.fulldata.apply(normalize)\n",
    "df_train['fulldata'] = df_train.fulldata.apply(normalize)"
   ]
  },
  {
   "cell_type": "code",
   "execution_count": 142,
   "metadata": {},
   "outputs": [],
   "source": [
    "idx = np.random.randn(len(df_train)) < 0.9\n",
    "\n",
    "if idx.sum() % BATCH_SIZE == 1:\n",
    "    idx[np.argmax(idx == False)] = True  # ensure there is no size 1 batch, else batchnorm crashes\n",
    "df_trn = df_train[idx]\n",
    "df_val = df_train[~idx]"
   ]
  },
  {
   "cell_type": "code",
   "execution_count": 143,
   "metadata": {},
   "outputs": [],
   "source": [
    "\n",
    "ds_trn = AudioDataset(df_trn, 'fulldata', 'label_code', framerate=16000)\n",
    "ds_val = AudioDataset(df_val, 'fulldata', 'label_code', framerate=16000)\n",
    "ds_test = AudioDataset(df_test, 'fulldata', 'label_code', framerate=16000)"
   ]
  },
  {
   "cell_type": "code",
   "execution_count": 144,
   "metadata": {},
   "outputs": [],
   "source": [
    "from fastai.text import SortishSampler\n",
    "dl_trn = DataLoader(ds_trn, batch_size=BATCH_SIZE, shuffle=True)\n",
    "#                    sampler=SortishSampler(ds_trn, key=lambda i: df_trn.iloc[i].nframes, bs=BATCH_SIZE))\n",
    "dl_val = DataLoader(ds_val, batch_size=BATCH_SIZE, shuffle=False)\n",
    "dl_test = DataLoader(ds_test, batch_size=BATCH_SIZE, shuffle=False)"
   ]
  },
  {
   "cell_type": "code",
   "execution_count": 145,
   "metadata": {},
   "outputs": [],
   "source": [
    "md = ModelData(PATH, dl_trn, dl_val, dl_test)"
   ]
  },
  {
   "cell_type": "markdown",
   "metadata": {},
   "source": [
    "### Arch\n",
    "\n",
    "from https://www.kaggle.com/fizzbuzz/beginner-s-guide-to-audio-data\n",
    "\n",
    "![img](https://raw.githubusercontent.com/zaffnet/images/master/images/raw_model.jpg)"
   ]
  },
  {
   "cell_type": "code",
   "execution_count": 147,
   "metadata": {},
   "outputs": [],
   "source": [
    "def conv_block(in_channels, out_channels, kernel_size, maxpool_size, dropout=0):\n",
    "    layers = [\n",
    "        nn.Conv1d(in_channels, out_channels, kernel_size, bias=False),\n",
    "        nn.BatchNorm1d(out_channels),\n",
    "        nn.ReLU(),\n",
    "        nn.Conv1d(out_channels, out_channels, kernel_size, bias=False),\n",
    "        nn.BatchNorm1d(out_channels),\n",
    "        nn.ReLU(),\n",
    "    ]\n",
    "    layers[0].weight.data.normal_(0, 0.1)\n",
    "    layers[3].weight.data.normal_(0, 0.1)\n",
    "\n",
    "    if maxpool_size:\n",
    "        layers.append(nn.MaxPool1d(maxpool_size))\n",
    "    if dropout:\n",
    "        layers.append(nn.Dropout(p=dropout, inplace=True))\n",
    "    return nn.Sequential(*layers)\n",
    "\n",
    "def dense_block(l_channels, dropout=0):\n",
    "    layers = [nn.Linear(l_channels[0], l_channels[1])]\n",
    "    layers[-1].weight.data.normal_(0, 0.1)\n",
    "    \n",
    "    for in_channels, out_channels in zip(l_channels[1:], l_channels[2:]):\n",
    "        layers.append(nn.ReLU())\n",
    "        layers.append(nn.Linear(in_channels, out_channels))\n",
    "        layers[-1].weight.data.normal_(0, 0.1)\n",
    "        \n",
    "    if dropout:\n",
    "        layers.append(nn.Dropout(p=dropout))\n",
    "    return nn.Sequential(*layers)\n",
    "\n",
    "   \n",
    "class Squeeze(nn.Module):\n",
    "    def forward(self,x):\n",
    "        return x.squeeze()\n",
    "    \n",
    "class Unsqueeze(nn.Module):\n",
    "    def forward(self,x):\n",
    "        return x.unsqueeze(1)\n",
    "    \n",
    "class AvgAndMaxPool(nn.Module):\n",
    "    def forward(self,x):\n",
    "        global_avg = nn.AdaptiveAvgPool1d(1)(x)\n",
    "        global_max = nn.AdaptiveMaxPool1d(1)(x)\n",
    "        x = torch.cat([global_max, global_avg], dim=1)\n",
    "        return x.squeeze()\n",
    "    \n",
    "def audio_network(num_outputs):\n",
    "    return nn.Sequential(\n",
    "        Unsqueeze(),\n",
    "        conv_block(1, 16, kernel_size=9, maxpool_size=16, dropout=0.1),\n",
    "        conv_block(16, 32, kernel_size=3, maxpool_size=8, dropout=0.1),\n",
    "        conv_block(32, 256, kernel_size=3, maxpool_size=4, dropout=0.2),\n",
    "        nn.Conv1d(256, num_outputs, kernel_size=3),\n",
    "        #nn.AdaptiveAvgPool1d(1),\n",
    "        #Squeeze()\n",
    "        AvgAndMaxPool(),\n",
    "        dense_block([2*num_outputs, num_outputs])\n",
    "    )"
   ]
  },
  {
   "cell_type": "code",
   "execution_count": 148,
   "metadata": {},
   "outputs": [],
   "source": [
    "model = audio_network(41)"
   ]
  },
  {
   "cell_type": "code",
   "execution_count": 149,
   "metadata": {
    "scrolled": false
   },
   "outputs": [
    {
     "data": {
      "text/plain": [
       "Sequential(\n",
       "  (0): Unsqueeze(\n",
       "  )\n",
       "  (1): Sequential(\n",
       "    (0): Conv1d (1, 16, kernel_size=(9,), stride=(1,), bias=False)\n",
       "    (1): BatchNorm1d(16, eps=1e-05, momentum=0.1, affine=True)\n",
       "    (2): ReLU()\n",
       "    (3): Conv1d (16, 16, kernel_size=(9,), stride=(1,), bias=False)\n",
       "    (4): BatchNorm1d(16, eps=1e-05, momentum=0.1, affine=True)\n",
       "    (5): ReLU()\n",
       "    (6): MaxPool1d(kernel_size=16, stride=16, padding=0, dilation=1, ceil_mode=False)\n",
       "    (7): Dropout(p=0.1, inplace)\n",
       "  )\n",
       "  (2): Sequential(\n",
       "    (0): Conv1d (16, 32, kernel_size=(3,), stride=(1,), bias=False)\n",
       "    (1): BatchNorm1d(32, eps=1e-05, momentum=0.1, affine=True)\n",
       "    (2): ReLU()\n",
       "    (3): Conv1d (32, 32, kernel_size=(3,), stride=(1,), bias=False)\n",
       "    (4): BatchNorm1d(32, eps=1e-05, momentum=0.1, affine=True)\n",
       "    (5): ReLU()\n",
       "    (6): MaxPool1d(kernel_size=8, stride=8, padding=0, dilation=1, ceil_mode=False)\n",
       "    (7): Dropout(p=0.1, inplace)\n",
       "  )\n",
       "  (3): Sequential(\n",
       "    (0): Conv1d (32, 256, kernel_size=(3,), stride=(1,), bias=False)\n",
       "    (1): BatchNorm1d(256, eps=1e-05, momentum=0.1, affine=True)\n",
       "    (2): ReLU()\n",
       "    (3): Conv1d (256, 256, kernel_size=(3,), stride=(1,), bias=False)\n",
       "    (4): BatchNorm1d(256, eps=1e-05, momentum=0.1, affine=True)\n",
       "    (5): ReLU()\n",
       "    (6): MaxPool1d(kernel_size=4, stride=4, padding=0, dilation=1, ceil_mode=False)\n",
       "    (7): Dropout(p=0.2, inplace)\n",
       "  )\n",
       "  (4): Conv1d (256, 41, kernel_size=(3,), stride=(1,))\n",
       "  (5): AvgAndMaxPool(\n",
       "  )\n",
       "  (6): Sequential(\n",
       "    (0): Linear(in_features=82, out_features=41)\n",
       "  )\n",
       ")"
      ]
     },
     "execution_count": 149,
     "metadata": {},
     "output_type": "execute_result"
    }
   ],
   "source": [
    "model"
   ]
  },
  {
   "cell_type": "code",
   "execution_count": 150,
   "metadata": {},
   "outputs": [],
   "source": [
    "from fastai.learner import Learner"
   ]
  },
  {
   "cell_type": "code",
   "execution_count": 151,
   "metadata": {},
   "outputs": [],
   "source": [
    "opt = partial(optim.Adam, betas=(0.8,0.99))\n",
    "learner = Learner(md, BasicModel(model.cuda()), optim.Adam, crit=F.cross_entropy)\n"
   ]
  },
  {
   "cell_type": "code",
   "execution_count": 152,
   "metadata": {
    "scrolled": true
   },
   "outputs": [],
   "source": [
    "learner.unfreeze()\n"
   ]
  },
  {
   "cell_type": "code",
   "execution_count": 153,
   "metadata": {},
   "outputs": [
    {
     "data": {
      "application/vnd.jupyter.widget-view+json": {
       "model_id": "f4ed6384c6384332aaf1dba1277b878f",
       "version_major": 2,
       "version_minor": 0
      },
      "text/html": [
       "<p>Failed to display Jupyter Widget of type <code>HBox</code>.</p>\n",
       "<p>\n",
       "  If you're reading this message in the Jupyter Notebook or JupyterLab Notebook, it may mean\n",
       "  that the widgets JavaScript is still loading. If this message persists, it\n",
       "  likely means that the widgets JavaScript library is either not installed or\n",
       "  not enabled. See the <a href=\"https://ipywidgets.readthedocs.io/en/stable/user_install.html\">Jupyter\n",
       "  Widgets Documentation</a> for setup instructions.\n",
       "</p>\n",
       "<p>\n",
       "  If you're reading this message in another frontend (for example, a static\n",
       "  rendering on GitHub or <a href=\"https://nbviewer.jupyter.org/\">NBViewer</a>),\n",
       "  it may mean that your frontend doesn't currently support widgets.\n",
       "</p>\n"
      ],
      "text/plain": [
       "HBox(children=(IntProgress(value=0, description='Epoch', max=1), HTML(value='')))"
      ]
     },
     "metadata": {},
     "output_type": "display_data"
    },
    {
     "name": "stdout",
     "output_type": "stream",
     "text": [
      " 84%|████████▍ | 102/121 [00:07<00:01, 13.15it/s, loss=24.2]\n",
      "                                                            \r"
     ]
    },
    {
     "data": {
      "image/png": "[encoded data removed]",
      "text/plain": [
       "<matplotlib.figure.Figure at 0x7f87440d98d0>"
      ]
     },
     "metadata": {},
     "output_type": "display_data"
    }
   ],
   "source": [
    "learner.lr_find()\n",
    "learner.sched.plot()"
   ]
  },
  {
   "cell_type": "code",
   "execution_count": 154,
   "metadata": {},
   "outputs": [
    {
     "data": {
      "application/vnd.jupyter.widget-view+json": {
       "model_id": "665de8f379694d019252eee388bd3c86",
       "version_major": 2,
       "version_minor": 0
      },
      "text/html": [
       "<p>Failed to display Jupyter Widget of type <code>HBox</code>.</p>\n",
       "<p>\n",
       "  If you're reading this message in the Jupyter Notebook or JupyterLab Notebook, it may mean\n",
       "  that the widgets JavaScript is still loading. If this message persists, it\n",
       "  likely means that the widgets JavaScript library is either not installed or\n",
       "  not enabled. See the <a href=\"https://ipywidgets.readthedocs.io/en/stable/user_install.html\">Jupyter\n",
       "  Widgets Documentation</a> for setup instructions.\n",
       "</p>\n",
       "<p>\n",
       "  If you're reading this message in another frontend (for example, a static\n",
       "  rendering on GitHub or <a href=\"https://nbviewer.jupyter.org/\">NBViewer</a>),\n",
       "  it may mean that your frontend doesn't currently support widgets.\n",
       "</p>\n"
      ],
      "text/plain": [
       "HBox(children=(IntProgress(value=0, description='Epoch', max=50), HTML(value='')))"
      ]
     },
     "metadata": {},
     "output_type": "display_data"
    },
    {
     "name": "stdout",
     "output_type": "stream",
     "text": [
      "epoch      trn_loss   val_loss   accuracy                   \n",
      "    0      3.28465    3.194678   0.183066  \n",
      "    1      2.83779    2.770995   0.259153                   \n",
      "    2      2.527664   2.424972   0.350114                   \n",
      "    3      2.314535   2.265788   0.350114                   \n",
      "    4      2.185842   2.272899   0.357551                   \n",
      "    5      2.076603   2.05062    0.411327                   \n",
      "    6      2.032753   2.010545   0.431922                   \n",
      "    7      1.946393   1.949804   0.459954                   \n",
      "    8      1.905379   1.863927   0.476545                   \n",
      "    9      1.839031   1.787942   0.494851                   \n",
      "    10     1.806889   1.940264   0.461098                   \n",
      "    11     1.775117   1.77963    0.504005                   \n",
      "    12     1.73934    1.706709   0.526316                   \n",
      "    13     1.674874   1.762863   0.501716                   \n",
      "    14     1.64333    1.78635    0.50286                    \n",
      "    15     1.620021   1.723631   0.509153                   \n",
      "    16     1.600317   1.641017   0.542906                   \n",
      "    17     1.613238   1.687831   0.522311                   \n",
      "    18     1.536669   1.655812   0.539474                   \n",
      "    19     1.506907   1.766052   0.506293                   \n",
      "    20     1.449998   1.476299   0.578947                   \n",
      "    21     1.41639    1.477844   0.573799                   \n",
      "    22     1.361982   1.505732   0.567506                   \n",
      "    23     1.385338   1.511282   0.563501                   \n",
      "    24     1.32342    1.464368   0.576659                   \n",
      "    25     1.277724   1.45057    0.584668                   \n",
      "    26     1.247334   1.41261    0.593249                   \n",
      "    27     1.229246   1.407992   0.616705                   \n",
      "    28     1.206979   1.408857   0.610412                   \n",
      "    29     1.17205    1.358885   0.625858                   \n",
      "    30     1.143162   1.387279   0.605835                   \n",
      "    31     1.058189   1.274252   0.648169                   \n",
      "    32     1.099484   1.347519   0.618421                   \n",
      "    33     1.053765   1.293797   0.644165                   \n",
      "    34     1.019582   1.283245   0.64016                    \n",
      "    35     1.026613   1.286299   0.640732                   \n",
      "    36     1.014507   1.279626   0.642449                   \n",
      "    37     0.981898   1.248564   0.648169                    \n",
      "    38     0.993213   1.289062   0.639588                    \n",
      "    39     0.986013   1.273432   0.653318                    \n",
      "    40     0.978372   1.278222   0.639588                    \n",
      "    41     0.981498   1.300832   0.644737                    \n",
      "    42     0.979873   1.292862   0.640732                    \n",
      "    43     0.99137    1.296208   0.643021                    \n",
      "    44     0.987054   1.275356   0.644165                    \n",
      "    45     0.989934   1.256245   0.642449                    \n",
      "    46     0.959198   1.2595     0.640732                    \n",
      "    47     0.993526   1.281761   0.653318                    \n",
      "    48     0.969167   1.257884   0.651602                    \n",
      "    49     0.955512   1.248124   0.652174                    \n",
      "\n"
     ]
    },
    {
     "data": {
      "text/plain": [
       "[array([1.24812]), 0.6521739127706881]"
      ]
     },
     "execution_count": 154,
     "metadata": {},
     "output_type": "execute_result"
    },
    {
     "data": {
      "application/javascript": [
       "$(document).ready(\n",
       "    function() {\n",
       "        function appendUniqueDiv(){\n",
       "            // append a div with our uuid so we can check that it's already\n",
       "            // been sent and avoid duplicates on page reload\n",
       "            var notifiedDiv = document.createElement(\"div\")\n",
       "            notifiedDiv.id = \"b330b59a-7769-46ba-8e3b-7baae3ace478\"\n",
       "            element.append(notifiedDiv)\n",
       "        }\n",
       "\n",
       "        // only send notifications if the pageload is complete; this will\n",
       "        // help stop extra notifications when a saved notebook is loaded,\n",
       "        // which during testing gives us state \"interactive\", not \"complete\"\n",
       "        if (document.readyState === 'complete') {\n",
       "            // check for the div that signifies that the notification\n",
       "            // was already sent\n",
       "            if (document.getElementById(\"b330b59a-7769-46ba-8e3b-7baae3ace478\") === null) {\n",
       "                var notificationPayload = {\"requireInteraction\": false, \"icon\": \"/static/base/images/favicon.ico\", \"body\": \"Cell Execution Has Finished!!\", \"autonotify_after\": \"15\", \"autonotify_output\": false};\n",
       "                if (Notification.permission !== 'denied') {\n",
       "                    if (Notification.permission !== 'granted') { \n",
       "                        Notification.requestPermission(function (permission) {\n",
       "                            if(!('permission' in Notification)) {\n",
       "                                Notification.permission = permission\n",
       "                            }\n",
       "                        })\n",
       "                    }\n",
       "                    if (Notification.permission === 'granted') {\n",
       "                    var notification = new Notification(\"Jupyter Notebook\", notificationPayload)\n",
       "                    appendUniqueDiv()\n",
       "                    notification.onclick = function () {\n",
       "                        window.focus();\n",
       "                        this.close();\n",
       "                        };\n",
       "                    } \n",
       "                }     \n",
       "            }\n",
       "        }\n",
       "    }\n",
       ")\n"
      ],
      "text/plain": [
       "<IPython.core.display.Javascript object>"
      ]
     },
     "metadata": {},
     "output_type": "display_data"
    }
   ],
   "source": [
    "learner.fit(4e-3, metrics=[accuracy], n_cycle=1, cycle_len=50, use_clr_beta=(20,30,0.97,0.65) )"
   ]
  },
  {
   "cell_type": "code",
   "execution_count": 155,
   "metadata": {
    "scrolled": true
   },
   "outputs": [
    {
     "data": {
      "image/png": "[encoded data removed]",
      "text/plain": [
       "<matplotlib.figure.Figure at 0x7f8753619c18>"
      ]
     },
     "metadata": {},
     "output_type": "display_data"
    }
   ],
   "source": [
    "learner.sched.plot_loss()"
   ]
  },
  {
   "cell_type": "code",
   "execution_count": 156,
   "metadata": {},
   "outputs": [
    {
     "data": {
      "image/png": "[encoded data removed]",
      "text/plain": [
       "<matplotlib.figure.Figure at 0x7f874c064080>"
      ]
     },
     "metadata": {},
     "output_type": "display_data"
    }
   ],
   "source": [
    "learner.sched.plot_lr()"
   ]
  },
  {
   "cell_type": "code",
   "execution_count": 168,
   "metadata": {},
   "outputs": [
    {
     "data": {
      "application/vnd.jupyter.widget-view+json": {
       "model_id": "9d3621da8efd482daef0e76f51fa6bbd",
       "version_major": 2,
       "version_minor": 0
      },
      "text/html": [
       "<p>Failed to display Jupyter Widget of type <code>HBox</code>.</p>\n",
       "<p>\n",
       "  If you're reading this message in the Jupyter Notebook or JupyterLab Notebook, it may mean\n",
       "  that the widgets JavaScript is still loading. If this message persists, it\n",
       "  likely means that the widgets JavaScript library is either not installed or\n",
       "  not enabled. See the <a href=\"https://ipywidgets.readthedocs.io/en/stable/user_install.html\">Jupyter\n",
       "  Widgets Documentation</a> for setup instructions.\n",
       "</p>\n",
       "<p>\n",
       "  If you're reading this message in another frontend (for example, a static\n",
       "  rendering on GitHub or <a href=\"https://nbviewer.jupyter.org/\">NBViewer</a>),\n",
       "  it may mean that your frontend doesn't currently support widgets.\n",
       "</p>\n"
      ],
      "text/plain": [
       "HBox(children=(IntProgress(value=0, description='Epoch', max=20), HTML(value='')))"
      ]
     },
     "metadata": {},
     "output_type": "display_data"
    },
    {
     "name": "stdout",
     "output_type": "stream",
     "text": [
      "epoch      trn_loss   val_loss   accuracy                    \n",
      "    0      0.975803   1.260826   0.645881  \n",
      "    1      0.939351   1.252434   0.657323                    \n",
      "    2      0.99589    1.27932    0.656178                    \n",
      "    3      0.946216   1.229781   0.659611                    \n",
      "    4      0.999777   1.268429   0.646453                    \n",
      "    5      0.933762   1.276624   0.652174                    \n",
      "    6      0.97186    1.258599   0.651602                    \n",
      "    7      0.932528   1.30015    0.645309                    \n",
      "    8      0.963802   1.250117   0.657323                    \n",
      "    9      0.925735   1.246083   0.651602                    \n",
      "    10     0.949976   1.260448   0.649314                    \n",
      "    11     0.924513   1.30401    0.645881                    \n",
      "    12     0.962091   1.291065   0.636728                    \n",
      "    13     0.908404   1.300509   0.65103                     \n",
      "    14     0.972206   1.303953   0.653318                    \n",
      "    15     0.908213   1.255757   0.656178                    \n",
      "    16     0.961306   1.240942   0.662471                    \n",
      "    17     0.885472   1.231441   0.655606                    \n",
      "    18     0.93177    1.266154   0.661327                    \n",
      "    19     0.889789   1.244642   0.660183                    \n",
      "\n"
     ]
    },
    {
     "data": {
      "text/plain": [
       "[array([1.24464]), 0.6601830664979511]"
      ]
     },
     "execution_count": 168,
     "metadata": {},
     "output_type": "execute_result"
    },
    {
     "data": {
      "application/javascript": [
       "$(document).ready(\n",
       "    function() {\n",
       "        function appendUniqueDiv(){\n",
       "            // append a div with our uuid so we can check that it's already\n",
       "            // been sent and avoid duplicates on page reload\n",
       "            var notifiedDiv = document.createElement(\"div\")\n",
       "            notifiedDiv.id = \"4a241700-bfdb-416e-9cf4-c299acad7b26\"\n",
       "            element.append(notifiedDiv)\n",
       "        }\n",
       "\n",
       "        // only send notifications if the pageload is complete; this will\n",
       "        // help stop extra notifications when a saved notebook is loaded,\n",
       "        // which during testing gives us state \"interactive\", not \"complete\"\n",
       "        if (document.readyState === 'complete') {\n",
       "            // check for the div that signifies that the notification\n",
       "            // was already sent\n",
       "            if (document.getElementById(\"4a241700-bfdb-416e-9cf4-c299acad7b26\") === null) {\n",
       "                var notificationPayload = {\"requireInteraction\": false, \"icon\": \"/static/base/images/favicon.ico\", \"body\": \"Cell Execution Has Finished!!\", \"autonotify_after\": \"15\", \"autonotify_output\": false};\n",
       "                if (Notification.permission !== 'denied') {\n",
       "                    if (Notification.permission !== 'granted') { \n",
       "                        Notification.requestPermission(function (permission) {\n",
       "                            if(!('permission' in Notification)) {\n",
       "                                Notification.permission = permission\n",
       "                            }\n",
       "                        })\n",
       "                    }\n",
       "                    if (Notification.permission === 'granted') {\n",
       "                    var notification = new Notification(\"Jupyter Notebook\", notificationPayload)\n",
       "                    appendUniqueDiv()\n",
       "                    notification.onclick = function () {\n",
       "                        window.focus();\n",
       "                        this.close();\n",
       "                        };\n",
       "                    } \n",
       "                }     \n",
       "            }\n",
       "        }\n",
       "    }\n",
       ")\n"
      ],
      "text/plain": [
       "<IPython.core.display.Javascript object>"
      ]
     },
     "metadata": {},
     "output_type": "display_data"
    }
   ],
   "source": [
    "learner.fit(1e-3, metrics=[accuracy], n_cycle=10, cycle_len=2)"
   ]
  },
  {
   "cell_type": "code",
   "execution_count": 169,
   "metadata": {},
   "outputs": [],
   "source": [
    "learner.model.eval()\n",
    "o = learner.predict_with_targs()"
   ]
  },
  {
   "cell_type": "code",
   "execution_count": 170,
   "metadata": {},
   "outputs": [
    {
     "data": {
      "text/plain": [
       "0.6636155606407322"
      ]
     },
     "execution_count": 170,
     "metadata": {},
     "output_type": "execute_result"
    }
   ],
   "source": [
    "accuracy_np(*o)"
   ]
  },
  {
   "cell_type": "code",
   "execution_count": null,
   "metadata": {},
   "outputs": [],
   "source": []
  }
 ],
 "metadata": {
  "kernelspec": {
   "display_name": "Python 3",
   "language": "python",
   "name": "python3"
  },
  "language_info": {
   "codemirror_mode": {
    "name": "ipython",
    "version": 3
   },
   "file_extension": ".py",
   "mimetype": "text/x-python",
   "name": "python",
   "nbconvert_exporter": "python",
   "pygments_lexer": "ipython3",
   "version": "3.6.4"
  }
 },
 "nbformat": 4,
 "nbformat_minor": 2
}
