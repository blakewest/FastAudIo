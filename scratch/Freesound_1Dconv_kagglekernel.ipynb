{
 "cells": [
  {
   "cell_type": "code",
   "execution_count": 1,
   "metadata": {},
   "outputs": [],
   "source": [
    "import pandas as pd\n",
    "import numpy as np\n",
    "import IPython.display as ipd\n",
    "import wave\n",
    "import librosa\n",
    "\n",
    "# fastai repo, commit = 5906daacb43458e86754517b38840e4f2155141b\n",
    "\n",
    "from fastai.learner import *\n",
    "from fastai.dataset import *\n",
    "from fastai.dataloader import *\n",
    "torch.cuda.set_device(0)"
   ]
  },
  {
   "cell_type": "code",
   "execution_count": 2,
   "metadata": {},
   "outputs": [],
   "source": [
    "%matplotlib inline\n",
    "import matplotlib.pyplot as plt"
   ]
  },
  {
   "cell_type": "code",
   "execution_count": 3,
   "metadata": {},
   "outputs": [
    {
     "data": {
      "application/javascript": [
       "if (!(\"Notification\" in window)) {\n",
       "    alert(\"This browser does not support desktop notifications, so the %%notify magic will not work.\");\n",
       "} else if (Notification.permission !== 'granted' && Notification.permission !== 'denied') {\n",
       "    Notification.requestPermission(function (permission) {\n",
       "        if(!('permission' in Notification)) {\n",
       "            Notification.permission = permission;\n",
       "        }\n",
       "    })\n",
       "}\n"
      ],
      "text/plain": [
       "<IPython.core.display.Javascript object>"
      ]
     },
     "metadata": {},
     "output_type": "display_data"
    }
   ],
   "source": [
    "%reload_ext jupyternotify\n",
    "%autonotify -a 15"
   ]
  },
  {
   "cell_type": "code",
   "execution_count": 4,
   "metadata": {},
   "outputs": [],
   "source": [
    "PATH = 'data/freesound'"
   ]
  },
  {
   "cell_type": "code",
   "execution_count": 5,
   "metadata": {},
   "outputs": [],
   "source": [
    "df_train = pd.read_csv(f'{PATH}/train.csv')\n",
    "df_test = pd.read_csv(f'{PATH}/sample_submission.csv')"
   ]
  },
  {
   "cell_type": "code",
   "execution_count": 6,
   "metadata": {},
   "outputs": [
    {
     "data": {
      "text/plain": [
       "41"
      ]
     },
     "execution_count": 6,
     "metadata": {},
     "output_type": "execute_result"
    }
   ],
   "source": [
    "len(df_train.label.unique())"
   ]
  },
  {
   "cell_type": "code",
   "execution_count": 7,
   "metadata": {},
   "outputs": [],
   "source": [
    "df_train['nframes'] = df_train.fname.apply(lambda f: wave.open(f'{PATH}/audio_train/{f}').getnframes())\n",
    "df_test['nframes'] = df_test.fname.apply(lambda f: wave.open(f'{PATH}/audio_test/{f}').getnframes())"
   ]
  },
  {
   "cell_type": "code",
   "execution_count": null,
   "metadata": {},
   "outputs": [],
   "source": []
  },
  {
   "cell_type": "markdown",
   "metadata": {},
   "source": [
    "## Data, arch, loss\n",
    "\n",
    "We need 3 things to build the classifier.\n",
    "- Data : a dataloader that build Torch Tensors from Audio files\n",
    "- arch : nn.Sequential, cf the kaggle kernel\n",
    "- loss : F.cross_entropy\n",
    "\n",
    "beware, F.cross_entropy already contains Softmax\n"
   ]
  },
  {
   "cell_type": "code",
   "execution_count": null,
   "metadata": {},
   "outputs": [],
   "source": []
  },
  {
   "cell_type": "markdown",
   "metadata": {},
   "source": [
    "### Data"
   ]
  },
  {
   "cell_type": "code",
   "execution_count": 8,
   "metadata": {},
   "outputs": [],
   "source": [
    "BATCH_SIZE = 64"
   ]
  },
  {
   "cell_type": "code",
   "execution_count": null,
   "metadata": {},
   "outputs": [],
   "source": []
  },
  {
   "cell_type": "code",
   "execution_count": 9,
   "metadata": {},
   "outputs": [],
   "source": [
    "class AudioDataset(torch.utils.data.Dataset):\n",
    "    def __init__(self, df, data_col, target_col=None, framerate=None):\n",
    "        self.df = df\n",
    "        self.data_col = data_col\n",
    "        self.target_col = target_col\n",
    "        self.framerate = framerate\n",
    "        \n",
    "    def __len__(self):\n",
    "        return len(self.df)\n",
    "    \n",
    "    def __getitem__(self, i): \n",
    "        data = self.df.iloc[i][self.data_col]\n",
    "        \n",
    "        input_length = 32000\n",
    "        # Random offset / Padding\n",
    "        if len(data) > input_length:\n",
    "            max_offset = len(data) - input_length\n",
    "            offset = np.random.randint(max_offset)\n",
    "            data = data[offset:(input_length+offset)]\n",
    "        else:\n",
    "            if input_length > len(data):\n",
    "                max_offset = input_length - len(data)\n",
    "                offset = np.random.randint(max_offset)\n",
    "            else:\n",
    "                offset = 0\n",
    "            data = np.pad(data, (offset, input_length - len(data) - offset), \"constant\")        \n",
    "        \n",
    "        return ( np.array(data), self.df.iloc[i][self.target_col] if self.target_col else 0 )"
   ]
  },
  {
   "cell_type": "code",
   "execution_count": 10,
   "metadata": {},
   "outputs": [],
   "source": [
    "#this loads full audio data into the dataframe using librosa in multiprocessing\n",
    "#mode since librosa.core.load is quite slow\n",
    "\n",
    "#there is a bug somewhere in this code\n",
    "#i had to run load_data_to_df 2 or 3 times for it to work. \n",
    "\n",
    "def chunkify(lst,n):\n",
    "    return [lst[i::n] for i in range(n)]\n",
    "\n",
    "def load_data_to_df(df):\n",
    "    df['fulldata'] = None\n",
    "    def process_chunk(chunk):\n",
    "        for ix in tqdm_notebook(chunk):\n",
    "            fn = df.loc[ix, 'fullpath']\n",
    "            df.set_value(ix, 'fulldata', librosa.core.load(fn,16000)[0])     \n",
    "\n",
    "    with ThreadPoolExecutor(16) as pool:\n",
    "        chunks = chunkify(df.index, 16)\n",
    "        pool.map(process_chunk, chunks)\n",
    "        \n"
   ]
  },
  {
   "cell_type": "code",
   "execution_count": 11,
   "metadata": {
    "scrolled": true
   },
   "outputs": [],
   "source": [
    "df_train['fullpath'] = df_train.fname.apply(lambda fn: f'{PATH}/audio_train/{fn}')\n",
    "df_train['label_code'] = df_train.label.astype('category').cat.codes\n",
    "df_test['fullpath'] = df_test.fname.apply(lambda fn: f'{PATH}/audio_test/{fn}')\n",
    "df_test['label_code'] = 0\n",
    "\n",
    "readaudiofiles = False # activate this to read the wav files and convert them to numpy arrays\n",
    "\n",
    "if readaudiofiles:\n",
    "    load_data_to_df(df_train)\n",
    "    load_data_to_df(df_test)\n"
   ]
  },
  {
   "cell_type": "code",
   "execution_count": 12,
   "metadata": {},
   "outputs": [],
   "source": [
    "if readaudiofiles:\n",
    "    for i, o in tqdm_notebook(df_train.iterrows()):\n",
    "        np.save(o.fullpath+'.npy', o.fulldata)\n",
    "    for i, o in tqdm_notebook(df_test.iterrows()):\n",
    "        np.save(o.fullpath+'.npy', o.fulldata)"
   ]
  },
  {
   "cell_type": "code",
   "execution_count": 13,
   "metadata": {},
   "outputs": [],
   "source": [
    "if not readaudiofiles:\n",
    "    df_train['fulldata'] = df_train.fullpath.apply(lambda fn: np.load(fn+'.npy'))\n",
    "    df_test['fulldata'] = df_test.fullpath.apply(lambda fn: np.load(fn+'.npy'))"
   ]
  },
  {
   "cell_type": "code",
   "execution_count": 14,
   "metadata": {},
   "outputs": [],
   "source": [
    "def normalize(a):\n",
    "    a -= a.mean()\n",
    "    return a / abs(a).max()\n",
    "df_test = df_test[df_test.nframes != 0]\n",
    "df_train = df_train[df_train.nframes != 0]\n",
    "df_test['fulldata'] = df_test.fulldata.apply(normalize)\n",
    "df_train['fulldata'] = df_train.fulldata.apply(normalize)"
   ]
  },
  {
   "cell_type": "code",
   "execution_count": 15,
   "metadata": {},
   "outputs": [],
   "source": [
    "idx = np.random.randn(len(df_train)) < 0.8\n",
    "\n",
    "if idx.sum() % BATCH_SIZE == 1:\n",
    "    idx[np.argmax(idx == False)] = True  # ensure there is no size 1 batch, else batchnorm crashes\n",
    "df_trn = df_train[idx]\n",
    "df_val = df_train[~idx]"
   ]
  },
  {
   "cell_type": "code",
   "execution_count": 16,
   "metadata": {},
   "outputs": [],
   "source": [
    "\n",
    "ds_trn = AudioDataset(df_trn, 'fulldata', 'label_code', framerate=16000)\n",
    "ds_val = AudioDataset(df_val, 'fulldata', 'label_code', framerate=16000)\n",
    "ds_test = AudioDataset(df_test, 'fulldata', 'label_code', framerate=16000)"
   ]
  },
  {
   "cell_type": "code",
   "execution_count": 17,
   "metadata": {},
   "outputs": [],
   "source": [
    "from fastai.text import SortishSampler\n",
    "dl_trn = DataLoader(ds_trn, batch_size=BATCH_SIZE, shuffle=True)\n",
    "#                    sampler=SortishSampler(ds_trn, key=lambda i: df_trn.iloc[i].nframes, bs=BATCH_SIZE))\n",
    "dl_val = DataLoader(ds_val, batch_size=BATCH_SIZE, shuffle=False)\n",
    "dl_test = DataLoader(ds_test, batch_size=BATCH_SIZE, shuffle=False)"
   ]
  },
  {
   "cell_type": "code",
   "execution_count": 18,
   "metadata": {},
   "outputs": [],
   "source": [
    "md = ModelData(PATH, dl_trn, dl_val, dl_test)"
   ]
  },
  {
   "cell_type": "markdown",
   "metadata": {},
   "source": [
    "### Arch\n",
    "\n",
    "from https://www.kaggle.com/fizzbuzz/beginner-s-guide-to-audio-data\n",
    "\n",
    "![img](https://raw.githubusercontent.com/zaffnet/images/master/images/raw_model.jpg)"
   ]
  },
  {
   "cell_type": "code",
   "execution_count": 19,
   "metadata": {},
   "outputs": [],
   "source": [
    "def conv_block(in_channels, out_channels, kernel_size, maxpool_size, dropout=0):\n",
    "    layers = [\n",
    "        nn.Conv1d(in_channels, out_channels, kernel_size),\n",
    "        nn.ReLU(),\n",
    "        nn.Conv1d(out_channels, out_channels, kernel_size),\n",
    "        nn.ReLU()#,nn.BatchNorm1d(out_channels)\n",
    "    ]\n",
    "    layers[0].weight.data.normal_(0, 0.1)\n",
    "    layers[2].weight.data.normal_(0, 0.1)\n",
    "\n",
    "    if maxpool_size:\n",
    "        layers.append(nn.MaxPool1d(maxpool_size))\n",
    "    else:\n",
    "        layers.append(nn.AdaptiveMaxPool1d(1))\n",
    "    if dropout:\n",
    "        layers.append(nn.Dropout(p=dropout, inplace=True))\n",
    "    return nn.Sequential(*layers)\n",
    "\n",
    "def dense_block(l_channels, dropout=0):\n",
    "    layers = [nn.Linear(l_channels[0], l_channels[1])]\n",
    "    layers[-1].weight.data.normal_(0, 0.1)\n",
    "    \n",
    "    for in_channels, out_channels in zip(l_channels[1:], l_channels[2:]):\n",
    "        layers.append(nn.ReLU())\n",
    "        layers.append(nn.Linear(in_channels, out_channels))\n",
    "        layers[-1].weight.data.normal_(0, 0.1)\n",
    "        \n",
    "    if dropout:\n",
    "        layers.append(nn.Dropout(p=dropout))\n",
    "    return nn.Sequential(*layers)\n",
    "\n",
    "        \n",
    "class Squeeze(nn.Module):\n",
    "    def forward(self,x):\n",
    "        return x.squeeze()\n",
    "class Unsqueeze(nn.Module):\n",
    "    def forward(self,x):\n",
    "        return x.unsqueeze(1)\n",
    "    \n",
    "def audio_network(num_outputs):\n",
    "    return nn.Sequential(\n",
    "        Unsqueeze(),\n",
    "        conv_block(1, 16, kernel_size=9, maxpool_size=16, dropout=0.1),\n",
    "        conv_block(16, 32, kernel_size=3, maxpool_size=4, dropout=0.1),\n",
    "        conv_block(32, 32, kernel_size=3, maxpool_size=4, dropout=0.1),\n",
    "        conv_block(32, 256, kernel_size=3, maxpool_size=0, dropout=0.2),\n",
    "        Squeeze(),\n",
    "        dense_block([256, 64, 1024, num_outputs]))"
   ]
  },
  {
   "cell_type": "code",
   "execution_count": 20,
   "metadata": {},
   "outputs": [],
   "source": [
    "model = audio_network(41)"
   ]
  },
  {
   "cell_type": "code",
   "execution_count": 21,
   "metadata": {
    "scrolled": false
   },
   "outputs": [
    {
     "data": {
      "text/plain": [
       "Sequential(\n",
       "  (0): Unsqueeze(\n",
       "  )\n",
       "  (1): Sequential(\n",
       "    (0): Conv1d (1, 16, kernel_size=(9,), stride=(1,))\n",
       "    (1): ReLU()\n",
       "    (2): Conv1d (16, 16, kernel_size=(9,), stride=(1,))\n",
       "    (3): ReLU()\n",
       "    (4): MaxPool1d(kernel_size=16, stride=16, padding=0, dilation=1, ceil_mode=False)\n",
       "    (5): Dropout(p=0.1, inplace)\n",
       "  )\n",
       "  (2): Sequential(\n",
       "    (0): Conv1d (16, 32, kernel_size=(3,), stride=(1,))\n",
       "    (1): ReLU()\n",
       "    (2): Conv1d (32, 32, kernel_size=(3,), stride=(1,))\n",
       "    (3): ReLU()\n",
       "    (4): MaxPool1d(kernel_size=4, stride=4, padding=0, dilation=1, ceil_mode=False)\n",
       "    (5): Dropout(p=0.1, inplace)\n",
       "  )\n",
       "  (3): Sequential(\n",
       "    (0): Conv1d (32, 32, kernel_size=(3,), stride=(1,))\n",
       "    (1): ReLU()\n",
       "    (2): Conv1d (32, 32, kernel_size=(3,), stride=(1,))\n",
       "    (3): ReLU()\n",
       "    (4): MaxPool1d(kernel_size=4, stride=4, padding=0, dilation=1, ceil_mode=False)\n",
       "    (5): Dropout(p=0.1, inplace)\n",
       "  )\n",
       "  (4): Sequential(\n",
       "    (0): Conv1d (32, 256, kernel_size=(3,), stride=(1,))\n",
       "    (1): ReLU()\n",
       "    (2): Conv1d (256, 256, kernel_size=(3,), stride=(1,))\n",
       "    (3): ReLU()\n",
       "    (4): AdaptiveMaxPool1d(output_size=1)\n",
       "    (5): Dropout(p=0.2, inplace)\n",
       "  )\n",
       "  (5): Squeeze(\n",
       "  )\n",
       "  (6): Sequential(\n",
       "    (0): Linear(in_features=256, out_features=64)\n",
       "    (1): ReLU()\n",
       "    (2): Linear(in_features=64, out_features=1024)\n",
       "    (3): ReLU()\n",
       "    (4): Linear(in_features=1024, out_features=41)\n",
       "  )\n",
       ")"
      ]
     },
     "execution_count": 21,
     "metadata": {},
     "output_type": "execute_result"
    }
   ],
   "source": [
    "model"
   ]
  },
  {
   "cell_type": "code",
   "execution_count": 22,
   "metadata": {},
   "outputs": [],
   "source": [
    "from fastai.learner import Learner"
   ]
  },
  {
   "cell_type": "code",
   "execution_count": 23,
   "metadata": {},
   "outputs": [],
   "source": [
    "learner = Learner(md, BasicModel(model.cuda()), optim.Adam, crit=F.cross_entropy)\n"
   ]
  },
  {
   "cell_type": "code",
   "execution_count": 24,
   "metadata": {},
   "outputs": [
    {
     "data": {
      "application/vnd.jupyter.widget-view+json": {
       "model_id": "d02a5ddbd20340d7a63b8d2fea25e692",
       "version_major": 2,
       "version_minor": 0
      },
      "text/html": [
       "<p>Failed to display Jupyter Widget of type <code>HBox</code>.</p>\n",
       "<p>\n",
       "  If you're reading this message in the Jupyter Notebook or JupyterLab Notebook, it may mean\n",
       "  that the widgets JavaScript is still loading. If this message persists, it\n",
       "  likely means that the widgets JavaScript library is either not installed or\n",
       "  not enabled. See the <a href=\"https://ipywidgets.readthedocs.io/en/stable/user_install.html\">Jupyter\n",
       "  Widgets Documentation</a> for setup instructions.\n",
       "</p>\n",
       "<p>\n",
       "  If you're reading this message in another frontend (for example, a static\n",
       "  rendering on GitHub or <a href=\"https://nbviewer.jupyter.org/\">NBViewer</a>),\n",
       "  it may mean that your frontend doesn't currently support widgets.\n",
       "</p>\n"
      ],
      "text/plain": [
       "HBox(children=(IntProgress(value=0, description='Epoch', max=1), HTML(value='')))"
      ]
     },
     "metadata": {},
     "output_type": "display_data"
    },
    {
     "name": "stdout",
     "output_type": "stream",
     "text": [
      " 92%|█████████▏| 107/116 [00:09<00:00, 11.21it/s, loss=39.2]\n",
      "                                                            \r"
     ]
    }
   ],
   "source": [
    "learner.unfreeze()\n",
    "learner.lr_find()"
   ]
  },
  {
   "cell_type": "code",
   "execution_count": 25,
   "metadata": {},
   "outputs": [
    {
     "data": {
      "image/png": "[encoded data removed]",
      "text/plain": [
       "<matplotlib.figure.Figure at 0x7f3100f1e668>"
      ]
     },
     "metadata": {},
     "output_type": "display_data"
    }
   ],
   "source": [
    "learner.sched.plot()"
   ]
  },
  {
   "cell_type": "code",
   "execution_count": 26,
   "metadata": {},
   "outputs": [
    {
     "data": {
      "application/vnd.jupyter.widget-view+json": {
       "model_id": "596cb2e3ceac4a1f916dff1c790e7f54",
       "version_major": 2,
       "version_minor": 0
      },
      "text/html": [
       "<p>Failed to display Jupyter Widget of type <code>HBox</code>.</p>\n",
       "<p>\n",
       "  If you're reading this message in the Jupyter Notebook or JupyterLab Notebook, it may mean\n",
       "  that the widgets JavaScript is still loading. If this message persists, it\n",
       "  likely means that the widgets JavaScript library is either not installed or\n",
       "  not enabled. See the <a href=\"https://ipywidgets.readthedocs.io/en/stable/user_install.html\">Jupyter\n",
       "  Widgets Documentation</a> for setup instructions.\n",
       "</p>\n",
       "<p>\n",
       "  If you're reading this message in another frontend (for example, a static\n",
       "  rendering on GitHub or <a href=\"https://nbviewer.jupyter.org/\">NBViewer</a>),\n",
       "  it may mean that your frontend doesn't currently support widgets.\n",
       "</p>\n"
      ],
      "text/plain": [
       "HBox(children=(IntProgress(value=0, description='Epoch', max=60), HTML(value='')))"
      ]
     },
     "metadata": {},
     "output_type": "display_data"
    },
    {
     "name": "stdout",
     "output_type": "stream",
     "text": [
      "epoch      trn_loss   val_loss                              \n",
      "    0      3.481916   3.416773  \n",
      "    1      3.288841   3.25675                               \n",
      "    2      3.134792   3.063769                              \n",
      "    3      2.833675   2.74247                               \n",
      "    4      2.592194   2.524061                              \n",
      "    5      2.421486   2.296652                              \n",
      "    6      2.325725   2.317778                              \n",
      "    7      2.236548   2.301839                              \n",
      "    8      2.157139   2.108713                              \n",
      "    9      2.058215   2.082207                              \n",
      "    10     2.029629   2.010284                              \n",
      "    11     1.926761   1.933143                              \n",
      "    12     1.929279   1.916133                              \n",
      "    13     1.851637   1.908919                              \n",
      "    14     1.821068   1.880986                              \n",
      "    15     1.762102   1.818842                              \n",
      "    16     1.745391   1.8095                                \n",
      "    17     1.705851   1.81436                               \n",
      "    18     1.640058   1.763614                              \n",
      "    19     1.634139   1.794261                              \n",
      "    20     1.6082     1.756159                              \n",
      "    21     1.589897   1.749274                              \n",
      "    22     1.5654     1.71857                               \n",
      "    23     1.520286   1.613862                              \n",
      "    24     1.53518    1.731671                              \n",
      "    25     1.498674   1.690772                              \n",
      "    26     1.473181   1.619918                              \n",
      "    27     1.463878   1.610287                              \n",
      "    28     1.461161   1.668343                              \n",
      "    29     1.427725   1.667315                              \n",
      "    30     1.411536   1.663418                              \n",
      "    31     1.377991   1.641322                              \n",
      "    32     1.373688   1.710646                              \n",
      "    33     1.369113   1.66912                               \n",
      "    34     1.312017   1.604473                              \n",
      "    35     1.334016   1.538015                              \n",
      "    36     1.318268   1.615829                              \n",
      "    37     1.295244   1.647536                              \n",
      "    38     1.300543   1.580289                              \n",
      "    39     1.275746   1.564744                              \n",
      "    40     1.272155   1.701498                              \n",
      "    41     1.297628   1.651451                              \n",
      "    42     1.24694    1.568502                              \n",
      "    43     1.236462   1.504739                              \n",
      "    44     1.212195   1.53123                               \n",
      "    45     1.185283   1.54342                               \n",
      "    46     1.217128   1.540192                              \n",
      "    47     1.21828    1.544391                              \n",
      "    48     1.166112   1.519995                              \n",
      "    49     1.192494   1.530751                              \n",
      "    50     1.147878   1.515828                              \n",
      "    51     1.171617   1.534457                              \n",
      "    52     1.130873   1.49                                  \n",
      "    53     1.095094   1.474818                              \n",
      "    54     1.14399    1.540241                              \n",
      "    55     1.12467    1.440895                              \n",
      "    56     1.089625   1.59468                               \n",
      "    57     1.097041   1.571143                              \n",
      "    58     1.087722   1.453614                              \n",
      "    59     1.108234   1.558935                              \n",
      "\n"
     ]
    },
    {
     "data": {
      "text/plain": [
       "[array([1.55894])]"
      ]
     },
     "execution_count": 26,
     "metadata": {},
     "output_type": "execute_result"
    },
    {
     "data": {
      "application/javascript": [
       "$(document).ready(\n",
       "    function() {\n",
       "        function appendUniqueDiv(){\n",
       "            // append a div with our uuid so we can check that it's already\n",
       "            // been sent and avoid duplicates on page reload\n",
       "            var notifiedDiv = document.createElement(\"div\")\n",
       "            notifiedDiv.id = \"9a3acc3f-45f1-44e9-beab-af0bdaa94d2e\"\n",
       "            element.append(notifiedDiv)\n",
       "        }\n",
       "\n",
       "        // only send notifications if the pageload is complete; this will\n",
       "        // help stop extra notifications when a saved notebook is loaded,\n",
       "        // which during testing gives us state \"interactive\", not \"complete\"\n",
       "        if (document.readyState === 'complete') {\n",
       "            // check for the div that signifies that the notification\n",
       "            // was already sent\n",
       "            if (document.getElementById(\"9a3acc3f-45f1-44e9-beab-af0bdaa94d2e\") === null) {\n",
       "                var notificationPayload = {\"requireInteraction\": false, \"icon\": \"/static/base/images/favicon.ico\", \"body\": \"Cell Execution Has Finished!!\", \"autonotify_after\": \"15\", \"autonotify_output\": false};\n",
       "                if (Notification.permission !== 'denied') {\n",
       "                    if (Notification.permission !== 'granted') { \n",
       "                        Notification.requestPermission(function (permission) {\n",
       "                            if(!('permission' in Notification)) {\n",
       "                                Notification.permission = permission\n",
       "                            }\n",
       "                        })\n",
       "                    }\n",
       "                    if (Notification.permission === 'granted') {\n",
       "                    var notification = new Notification(\"Jupyter Notebook\", notificationPayload)\n",
       "                    appendUniqueDiv()\n",
       "                    notification.onclick = function () {\n",
       "                        window.focus();\n",
       "                        this.close();\n",
       "                        };\n",
       "                    } \n",
       "                }     \n",
       "            }\n",
       "        }\n",
       "    }\n",
       ")\n"
      ],
      "text/plain": [
       "<IPython.core.display.Javascript object>"
      ]
     },
     "metadata": {},
     "output_type": "display_data"
    }
   ],
   "source": [
    "learner.fit(1e-3, 60) #, cycle_len=50, use_clr_beta=(10,10,0.95,0.85) )"
   ]
  },
  {
   "cell_type": "code",
   "execution_count": 27,
   "metadata": {
    "scrolled": true
   },
   "outputs": [
    {
     "data": {
      "image/png": "[encoded data removed]",
      "text/plain": [
       "<matplotlib.figure.Figure at 0x7f31001b0b70>"
      ]
     },
     "metadata": {},
     "output_type": "display_data"
    }
   ],
   "source": [
    "learner.sched.plot_loss()"
   ]
  },
  {
   "cell_type": "code",
   "execution_count": 28,
   "metadata": {},
   "outputs": [
    {
     "data": {
      "image/png": "[encoded data removed]",
      "text/plain": [
       "<matplotlib.figure.Figure at 0x7f3100f6bbe0>"
      ]
     },
     "metadata": {},
     "output_type": "display_data"
    }
   ],
   "source": [
    "learner.sched.plot_lr()"
   ]
  },
  {
   "cell_type": "code",
   "execution_count": 29,
   "metadata": {},
   "outputs": [],
   "source": [
    "learner.save('60epochs')"
   ]
  },
  {
   "cell_type": "code",
   "execution_count": 30,
   "metadata": {},
   "outputs": [],
   "source": [
    "learner.model.eval()\n",
    "o = learner.predict_with_targs()"
   ]
  },
  {
   "cell_type": "code",
   "execution_count": 31,
   "metadata": {},
   "outputs": [
    {
     "data": {
      "text/plain": [
       "0.5692307692307692"
      ]
     },
     "execution_count": 31,
     "metadata": {},
     "output_type": "execute_result"
    }
   ],
   "source": [
    "accuracy_np(*o)"
   ]
  },
  {
   "cell_type": "code",
   "execution_count": null,
   "metadata": {},
   "outputs": [],
   "source": []
  }
 ],
 "metadata": {
  "kernelspec": {
   "display_name": "Python 3",
   "language": "python",
   "name": "python3"
  },
  "language_info": {
   "codemirror_mode": {
    "name": "ipython",
    "version": 3
   },
   "file_extension": ".py",
   "mimetype": "text/x-python",
   "name": "python",
   "nbconvert_exporter": "python",
   "pygments_lexer": "ipython3",
   "version": "3.6.4"
  }
 },
 "nbformat": 4,
 "nbformat_minor": 2
}
