{
 "cells": [
  {
   "cell_type": "code",
   "execution_count": 1,
   "metadata": {},
   "outputs": [],
   "source": [
    "%matplotlib inline\n",
    "%reload_ext autoreload\n",
    "%autoreload 2"
   ]
  },
  {
   "cell_type": "code",
   "execution_count": 2,
   "metadata": {},
   "outputs": [],
   "source": [
    "from pathlib import Path\n",
    "\n",
    "import IPython.display as ipd\n",
    "import librosa\n",
    "import matplotlib.pyplot as plt\n",
    "import numpy as np\n",
    "import pandas as pd\n",
    "from scipy.io import wavfile\n",
    "\n",
    "import torch\n",
    "import torch.nn as nn\n",
    "import torch.nn.functional as F\n",
    "import torch.optim as optim\n",
    "from torchvision.transforms import Lambda\n",
    "\n",
    "from fastai.dataloader import DataLoader\n",
    "from fastai.dataset import get_cv_idxs, split_by_idx, ArraysIndexDataset, ModelData\n",
    "from fastai.metrics import accuracy\n",
    "from fastai.model import fit, predict\n",
    "\n",
    "from data_loading_utils import load_audio_files, read_file\n",
    "from preprocessing_utils import load_features"
   ]
  },
  {
   "cell_type": "code",
   "execution_count": 211,
   "metadata": {},
   "outputs": [],
   "source": [
    "PATH = Path('F:/freesound-audio-tagging')\n",
    "TRAIN_PATH = PATH/'audio_train'\n",
    "TEST_PATH = PATH/'audio_test'\n",
    "\n",
    "sample_rate = 44100\n",
    "n_segments = 220  # approx 2.5 seconds\n",
    "n_features = 40\n",
    "n_fft = 1024"
   ]
  },
  {
   "cell_type": "code",
   "execution_count": 212,
   "metadata": {},
   "outputs": [],
   "source": [
    "train = pd.read_csv(PATH/'train.csv')\n",
    "\n",
    "labels = sorted(train.label.unique())\n",
    "label_idx = {label:i for i, label in enumerate(labels)}"
   ]
  },
  {
   "cell_type": "code",
   "execution_count": 213,
   "metadata": {},
   "outputs": [],
   "source": [
    "import pickle"
   ]
  },
  {
   "cell_type": "code",
   "execution_count": 214,
   "metadata": {},
   "outputs": [
    {
     "name": "stdout",
     "output_type": "stream",
     "text": [
      "Loading audio files...\n"
     ]
    },
    {
     "data": {
      "application/vnd.jupyter.widget-view+json": {
       "model_id": "1538634ad6f44abda8cea36694449e21",
       "version_major": 2,
       "version_minor": 0
      },
      "text/plain": [
       "HBox(children=(IntProgress(value=0, max=9473), HTML(value='')))"
      ]
     },
     "metadata": {},
     "output_type": "display_data"
    },
    {
     "name": "stdout",
     "output_type": "stream",
     "text": [
      "Computing log_mel_spec features..\n"
     ]
    },
    {
     "data": {
      "application/vnd.jupyter.widget-view+json": {
       "model_id": "6458f083f9544b13a022d550422d019f",
       "version_major": 2,
       "version_minor": 0
      },
      "text/plain": [
       "HBox(children=(IntProgress(value=0, max=9473), HTML(value='')))"
      ]
     },
     "metadata": {},
     "output_type": "display_data"
    },
    {
     "name": "stdout",
     "output_type": "stream",
     "text": [
      "Saving data..\n",
      "Loaded features for 9473 files\n"
     ]
    }
   ],
   "source": [
    "x = load_features(TRAIN_PATH, filenames=train.fname, feature_name='log_mel_spec', n_fft=n_fft, n_features=n_features)"
   ]
  },
  {
   "cell_type": "code",
   "execution_count": 7,
   "metadata": {},
   "outputs": [],
   "source": [
    "# x = pickle.load(open('tmp/audio_train_log_mel_spec_80_1024_512_44100_raw.p', 'rb'))\n",
    "# x = load_features(TRAIN_PATH, filenames=train.fname, feature_name='log_mel_spec', n_fft=n_fft, n_features=n_features)"
   ]
  },
  {
   "cell_type": "code",
   "execution_count": 215,
   "metadata": {},
   "outputs": [
    {
     "data": {
      "text/plain": [
       "(9473, 9473)"
      ]
     },
     "execution_count": 215,
     "metadata": {},
     "output_type": "execute_result"
    }
   ],
   "source": [
    "y = train.label.apply(lambda l: label_idx[l]).values\n",
    "len(x), len(y)"
   ]
  },
  {
   "cell_type": "code",
   "execution_count": 216,
   "metadata": {},
   "outputs": [
    {
     "data": {
      "text/plain": [
       "((40, 1206), (9473,))"
      ]
     },
     "execution_count": 216,
     "metadata": {},
     "output_type": "execute_result"
    }
   ],
   "source": [
    "x[0].shape, y.shape"
   ]
  },
  {
   "cell_type": "code",
   "execution_count": 246,
   "metadata": {},
   "outputs": [
    {
     "name": "stdout",
     "output_type": "stream",
     "text": [
      "Loading audio files...\n"
     ]
    },
    {
     "data": {
      "application/vnd.jupyter.widget-view+json": {
       "model_id": "0243312866b242e88ba0c8e7223713d2",
       "version_major": 2,
       "version_minor": 0
      },
      "text/plain": [
       "HBox(children=(IntProgress(value=0, max=9400), HTML(value='')))"
      ]
     },
     "metadata": {},
     "output_type": "display_data"
    },
    {
     "name": "stdout",
     "output_type": "stream",
     "text": [
      "Computing log_mel_spec features..\n"
     ]
    },
    {
     "data": {
      "application/vnd.jupyter.widget-view+json": {
       "model_id": "30a01bedef004a8989056964ea638bda",
       "version_major": 2,
       "version_minor": 0
      },
      "text/plain": [
       "HBox(children=(IntProgress(value=0, max=9400), HTML(value='')))"
      ]
     },
     "metadata": {},
     "output_type": "display_data"
    },
    {
     "name": "stdout",
     "output_type": "stream",
     "text": [
      "Empty File\n",
      "Empty File\n",
      "Empty File\n",
      "Saving data..\n",
      "Loaded features for 9400 files\n"
     ]
    },
    {
     "data": {
      "text/plain": [
       "(9400, 9400)"
      ]
     },
     "execution_count": 246,
     "metadata": {},
     "output_type": "execute_result"
    }
   ],
   "source": [
    "test = pd.read_csv(PATH/'sample_submission.csv')\n",
    "test_x = load_features(TEST_PATH, filenames=test.fname, feature_name='log_mel_spec', n_fft=n_fft, n_features=n_features)\n",
    "test_y = np.zeros(len(test_x))\n",
    "len(test_x), len(test_y)"
   ]
  },
  {
   "cell_type": "code",
   "execution_count": 261,
   "metadata": {},
   "outputs": [],
   "source": [
    "# from blake\n",
    "def get_trn_val_split(x, y, val_pct=0.15):\n",
    "    val_idxs = get_cv_idxs(len(x), val_pct=val_pct)\n",
    "    if isinstance(x, list):\n",
    "        return [([arr[i] for i in val_idxs], [arr[i] for i in range(len(arr)) if i not in val_idxs]) for arr in [x,y]]\n",
    "    else:\n",
    "        return split_by_idx(val_idxs, x, y)"
   ]
  },
  {
   "cell_type": "code",
   "execution_count": 262,
   "metadata": {},
   "outputs": [
    {
     "data": {
      "text/plain": [
       "(8053, 8053, 1420, 1420)"
      ]
     },
     "execution_count": 262,
     "metadata": {},
     "output_type": "execute_result"
    }
   ],
   "source": [
    "((val_x, trn_x), (val_y, trn_y)) = get_trn_val_split(x, y, 0.15)\n",
    "\n",
    "len(trn_x), len(trn_y), len(val_x), len(val_y)"
   ]
  },
  {
   "cell_type": "code",
   "execution_count": 249,
   "metadata": {},
   "outputs": [],
   "source": [
    "def random_subset2d(x, n):    \n",
    "    if x.shape[0] > n:\n",
    "        offset = np.random.randint(x.shape[0] - n)\n",
    "        return x[offset:offset+n]\n",
    "    elif x.shape[0] < n:\n",
    "        pad_total = n - x.shape[0]\n",
    "        pad_start = np.random.randint(pad_total)\n",
    "        pad_end = pad_total - pad_start\n",
    "        return np.pad(x, ((pad_start, pad_end), (0, 0)), mode='wrap') # zeros\n",
    "    else:\n",
    "        return x"
   ]
  },
  {
   "cell_type": "code",
   "execution_count": 250,
   "metadata": {},
   "outputs": [],
   "source": [
    "class RandomOffsetArraysIndexDataset(ArraysIndexDataset):\n",
    "    def __init__(self, x, y, n_segments, transform=None):\n",
    "        self.n_segments = n_segments\n",
    "        assert(len(x)==len(y))\n",
    "        super().__init__(x, y, transform)\n",
    "    \n",
    "    def get_x(self, i):\n",
    "        data = self.x[i].T\n",
    "        return random_subset2d(data, self.n_segments)\n",
    "    \n",
    "    def get_sz(self):\n",
    "        return self.n_segments"
   ]
  },
  {
   "cell_type": "code",
   "execution_count": 251,
   "metadata": {},
   "outputs": [],
   "source": [
    "# Takes the middle two seconds of the audio file to run the model on\n",
    "class AudioArraysIndexDataset(ArraysIndexDataset):\n",
    "    def __init__(self, x, y, n_segments, transform=None):\n",
    "        self.n_segments = n_segments\n",
    "        assert(len(x)==len(y))\n",
    "        super().__init__(x, y, transform)\n",
    "    \n",
    "    def get_x(self, i):\n",
    "        data = self.x[i].T\n",
    "        if data.shape[0] < self.n_segments:\n",
    "            data = np.pad(data, ((0, self.n_segments-data.shape[0]), (0, 0)), 'constant')\n",
    "        elif data.shape[0] > self.n_segments:\n",
    "            offset = (data.shape[0] - self.n_segments) // 2\n",
    "            data = data[offset:offset+self.n_segments]\n",
    "        return data\n",
    "    \n",
    "    def get_sz(self):\n",
    "        return self.n_segments"
   ]
  },
  {
   "cell_type": "code",
   "execution_count": 252,
   "metadata": {},
   "outputs": [],
   "source": [
    "def conv_block(n_in, n_out, dropout=0.2, kernel=7, maxpool=2):\n",
    "    return nn.Sequential(\n",
    "        nn.Conv2d(n_in, n_out, kernel_size=(kernel, kernel), padding=(3, 3), bias=False),\n",
    "        nn.BatchNorm2d(n_out, momentum=0.01),\n",
    "        nn.LeakyReLU(negative_slope=0.1, inplace=True),\n",
    "        nn.MaxPool2d(maxpool),\n",
    "        nn.Dropout(dropout, inplace=True)\n",
    "    )\n",
    "\n",
    "class Lambda(nn.Module):\n",
    "    def __init__(self, lambd):\n",
    "        super().__init__()\n",
    "        self.lambd = lambd\n",
    "    def forward(self, x):\n",
    "        return self.lambd(x)\n",
    "\n",
    "class AudioCNN_MFCC(nn.Module):\n",
    "    def __init__(self, n_classes, n_segments, n_features):\n",
    "        super().__init__()\n",
    "\n",
    "        linear_input_ch = ((n_features//16) * (n_segments//16)) * 64\n",
    "        \n",
    "        self.layers = nn.Sequential(\n",
    "            # Add in channel dimension\n",
    "            Lambda(lambda x: x.view(x.shape[0], 1, x.shape[1], x.shape[2])),\n",
    "            conv_block(1, 32, dropout=.1),\n",
    "            conv_block(32, 32, dropout=.1),\n",
    "            conv_block(32, 64),\n",
    "            conv_block(64, 64),\n",
    "            Lambda(lambda x: x.view(x.shape[0], -1)),\n",
    "            nn.Linear(linear_input_ch, 256),\n",
    "            nn.BatchNorm1d(256),\n",
    "            nn.ReLU(),\n",
    "            nn.Linear(256, n_classes)\n",
    "        )\n",
    "        \n",
    "    def forward(self, x):\n",
    "        return self.layers(x)"
   ]
  },
  {
   "cell_type": "code",
   "execution_count": 266,
   "metadata": {},
   "outputs": [],
   "source": [
    " # ArraysIndexDataset expects np arrays\n",
    "trn_y, val_y = np.array(trn_y), np.array(val_y)\n",
    "\n",
    "trn_ds = RandomOffsetArraysIndexDataset(trn_x, trn_y, n_segments)\n",
    "val_ds = RandomOffsetArraysIndexDataset(val_x, val_y, n_segments)\n",
    "trn_dl = DataLoader(trn_ds, shuffle=True, batch_size=64)\n",
    "val_dl = DataLoader(val_ds, shuffle=False, batch_size=64)\n",
    "test_ds = AudioArraysIndexDataset(test_x, test_y, n_segments)\n",
    "test_dl = DataLoader(test_ds, shuffle=False, batch_size=64)"
   ]
  },
  {
   "cell_type": "code",
   "execution_count": 267,
   "metadata": {},
   "outputs": [
    {
     "data": {
      "text/plain": [
       "(torch.Size([64, 220, 40]), torch.Size([64]))"
      ]
     },
     "execution_count": 267,
     "metadata": {},
     "output_type": "execute_result"
    }
   ],
   "source": [
    "x1, y1 = next(iter(trn_dl))\n",
    "x1.size(), y1.size()"
   ]
  },
  {
   "cell_type": "code",
   "execution_count": 268,
   "metadata": {},
   "outputs": [
    {
     "data": {
      "text/plain": [
       "torch.Size([64, 220, 40])"
      ]
     },
     "execution_count": 268,
     "metadata": {},
     "output_type": "execute_result"
    }
   ],
   "source": [
    "next(iter(test_dl))[0].shape"
   ]
  },
  {
   "cell_type": "code",
   "execution_count": 286,
   "metadata": {},
   "outputs": [],
   "source": [
    "model = AudioCNN_MFCC(len(labels), n_segments, n_features).cuda()\n",
    "md = ModelData(PATH, trn_dl, val_dl, test_dl=test_dl)"
   ]
  },
  {
   "cell_type": "code",
   "execution_count": 287,
   "metadata": {},
   "outputs": [],
   "source": [
    "from fastai.conv_learner import *"
   ]
  },
  {
   "cell_type": "code",
   "execution_count": 288,
   "metadata": {},
   "outputs": [],
   "source": [
    "opt = partial(optim.Adam, betas=(0.8,0.99))\n",
    "metrics = [accuracy]\n",
    "loss = F.cross_entropy"
   ]
  },
  {
   "cell_type": "code",
   "execution_count": 289,
   "metadata": {},
   "outputs": [],
   "source": [
    "learn = ConvLearner.from_model_data(model, md, crit=loss, metrics=metrics, opt_fn=opt)"
   ]
  },
  {
   "cell_type": "code",
   "execution_count": 306,
   "metadata": {},
   "outputs": [
    {
     "data": {
      "application/vnd.jupyter.widget-view+json": {
       "model_id": "918fc847b4a149e9abc3b9ffa51e397c",
       "version_major": 2,
       "version_minor": 0
      },
      "text/plain": [
       "HBox(children=(IntProgress(value=0, description='Epoch', max=1), HTML(value='')))"
      ]
     },
     "metadata": {},
     "output_type": "display_data"
    },
    {
     "name": "stdout",
     "output_type": "stream",
     "text": [
      "epoch      trn_loss   val_loss   accuracy                   \n",
      "    0      2.162644   855.063305 0.01831   \n"
     ]
    }
   ],
   "source": [
    "learn.lr_find(1e-6, 1e-1)"
   ]
  },
  {
   "cell_type": "code",
   "execution_count": 307,
   "metadata": {
    "scrolled": true
   },
   "outputs": [
    {
     "data": {
      "image/png": "[encoded data removed]",
      "text/plain": [
       "<Figure size 432x288 with 1 Axes>"
      ]
     },
     "metadata": {},
     "output_type": "display_data"
    }
   ],
   "source": [
    "learn.sched.plot()"
   ]
  },
  {
   "cell_type": "code",
   "execution_count": 292,
   "metadata": {},
   "outputs": [
    {
     "data": {
      "application/vnd.jupyter.widget-view+json": {
       "model_id": "add2a3c49d794a0a8e4e8e32d630cea6",
       "version_major": 2,
       "version_minor": 0
      },
      "text/plain": [
       "HBox(children=(IntProgress(value=0, description='Epoch', max=5), HTML(value='')))"
      ]
     },
     "metadata": {},
     "output_type": "display_data"
    },
    {
     "name": "stdout",
     "output_type": "stream",
     "text": [
      "epoch      trn_loss   val_loss   accuracy                   \n",
      "    0      3.055078   3.685654   0.034507  \n",
      "    1      2.382594   2.668481   0.28169                    \n",
      "    2      1.941807   3.781081   0.219718                   \n",
      "    3      1.684467   2.003433   0.447887                   \n",
      "    4      1.481953   1.61237    0.56831                    \n"
     ]
    },
    {
     "data": {
      "text/plain": [
       "[array([1.61237]), 0.5683098590709794]"
      ]
     },
     "execution_count": 292,
     "metadata": {},
     "output_type": "execute_result"
    }
   ],
   "source": [
    "learn.fit(1e-3, 1, cycle_len=5, use_clr_beta=(5, 20, 0.95, 0.75))"
   ]
  },
  {
   "cell_type": "code",
   "execution_count": 293,
   "metadata": {},
   "outputs": [],
   "source": [
    "learn.save('conv2d_0-220-40-bs64.w')"
   ]
  },
  {
   "cell_type": "code",
   "execution_count": 294,
   "metadata": {},
   "outputs": [],
   "source": [
    "learn.load('conv2d_0-220-40-bs64.w')"
   ]
  },
  {
   "cell_type": "code",
   "execution_count": 295,
   "metadata": {},
   "outputs": [
    {
     "data": {
      "application/vnd.jupyter.widget-view+json": {
       "model_id": "a75818c5f3104497a9ae9de871b1fe05",
       "version_major": 2,
       "version_minor": 0
      },
      "text/plain": [
       "HBox(children=(IntProgress(value=0, description='Epoch', max=5), HTML(value='')))"
      ]
     },
     "metadata": {},
     "output_type": "display_data"
    },
    {
     "name": "stdout",
     "output_type": "stream",
     "text": [
      "epoch      trn_loss   val_loss   accuracy                   \n",
      "    0      1.466312   1.843694   0.489437  \n",
      "    1      1.439423   1.71458    0.541549                   \n",
      "    2      1.401664   1.49125    0.600704                   \n",
      "    3      1.318717   1.429005   0.616197                   \n",
      "    4      1.275615   1.419164   0.627465                   \n"
     ]
    },
    {
     "data": {
      "text/plain": [
       "[array([1.41916]), 0.6274647887323944]"
      ]
     },
     "execution_count": 295,
     "metadata": {},
     "output_type": "execute_result"
    }
   ],
   "source": [
    "learn.fit(2e-4, 1, cycle_len=5, use_clr_beta=(5, 20, 0.95, 0.75))"
   ]
  },
  {
   "cell_type": "code",
   "execution_count": 296,
   "metadata": {},
   "outputs": [],
   "source": [
    "learn.save('conv2d_1-220-40-bs64.w')"
   ]
  },
  {
   "cell_type": "code",
   "execution_count": 309,
   "metadata": {},
   "outputs": [],
   "source": [
    "learn.load('conv2d_1-220-40-bs64.w')"
   ]
  },
  {
   "cell_type": "code",
   "execution_count": 310,
   "metadata": {
    "scrolled": true
   },
   "outputs": [
    {
     "data": {
      "application/vnd.jupyter.widget-view+json": {
       "model_id": "c1b574e3e51b4333ad36ee2202511e09",
       "version_major": 2,
       "version_minor": 0
      },
      "text/plain": [
       "HBox(children=(IntProgress(value=0, description='Epoch', max=5), HTML(value='')))"
      ]
     },
     "metadata": {},
     "output_type": "display_data"
    },
    {
     "name": "stdout",
     "output_type": "stream",
     "text": [
      "epoch      trn_loss   val_loss   accuracy                   \n",
      "    0      1.276321   1.403396   0.623239  \n",
      "    1      1.247176   1.465834   0.60493                    \n",
      "    2      1.26243    1.417542   0.611268                   \n",
      "    3      1.239195   1.429752   0.607746                   \n",
      "    4      1.235225   1.356215   0.630282                   \n"
     ]
    },
    {
     "data": {
      "text/plain": [
       "[array([1.35622]), 0.6302816901408451]"
      ]
     },
     "execution_count": 310,
     "metadata": {},
     "output_type": "execute_result"
    }
   ],
   "source": [
    "learn.fit(5e-5, 1, cycle_len=5, use_clr_beta=(5, 20, 0.95, 0.75))"
   ]
  },
  {
   "cell_type": "code",
   "execution_count": null,
   "metadata": {},
   "outputs": [],
   "source": [
    "learn.save('conv2d_2-220-40-bs64.w.w')"
   ]
  },
  {
   "cell_type": "code",
   "execution_count": null,
   "metadata": {},
   "outputs": [],
   "source": [
    "learn.load('conv2d_2-220-40-bs64.w.w')"
   ]
  },
  {
   "cell_type": "code",
   "execution_count": 311,
   "metadata": {},
   "outputs": [],
   "source": [
    "predictions = learn.predict(is_test=True)"
   ]
  },
  {
   "cell_type": "code",
   "execution_count": 312,
   "metadata": {},
   "outputs": [],
   "source": [
    "top_3 = np.array(labels)[np.argsort(-predictions, axis=1)[:, :3]]\n",
    "predicted_labels = [' '.join(list(x)) for x in top_3]"
   ]
  },
  {
   "cell_type": "code",
   "execution_count": 313,
   "metadata": {},
   "outputs": [],
   "source": [
    "test.label = predicted_labels"
   ]
  },
  {
   "cell_type": "code",
   "execution_count": 314,
   "metadata": {},
   "outputs": [],
   "source": [
    "test.to_csv('fixed_2d_conv_log_mel_spec.csv', index=False)"
   ]
  },
  {
   "cell_type": "code",
   "execution_count": null,
   "metadata": {},
   "outputs": [],
   "source": []
  }
 ],
 "metadata": {
  "kernelspec": {
   "display_name": "Python 3",
   "language": "python",
   "name": "python3"
  },
  "language_info": {
   "codemirror_mode": {
    "name": "ipython",
    "version": 3
   },
   "file_extension": ".py",
   "mimetype": "text/x-python",
   "name": "python",
   "nbconvert_exporter": "python",
   "pygments_lexer": "ipython3",
   "version": "3.6.5"
  }
 },
 "nbformat": 4,
 "nbformat_minor": 2
}
