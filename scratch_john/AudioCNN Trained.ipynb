{
 "cells": [
  {
   "cell_type": "code",
   "execution_count": 1,
   "metadata": {},
   "outputs": [],
   "source": [
    "%matplotlib inline\n",
    "%reload_ext autoreload\n",
    "%autoreload 2"
   ]
  },
  {
   "cell_type": "code",
   "execution_count": 2,
   "metadata": {},
   "outputs": [],
   "source": [
    "from itertools import islice\n",
    "import IPython.display as ipd\n",
    "from pathlib import Path\n",
    "import torch\n",
    "import librosa\n",
    "import numpy as np\n",
    "import pandas as pd"
   ]
  },
  {
   "cell_type": "code",
   "execution_count": 11,
   "metadata": {},
   "outputs": [],
   "source": [
    "from fastai import *\n",
    "from fastai.conv_learner import *\n",
    "from fastai.core import *\n",
    "from fastai.metrics import accuracy, accuracy_np\n",
    "from fastai.text import SortSampler, SortishSampler\n",
    "from data_loading_utils import read_file\n",
    "from preprocessing_utils import load_features\n",
    "from helpers import *\n",
    "from metrics import *\n",
    "from models import *"
   ]
  },
  {
   "cell_type": "code",
   "execution_count": 3,
   "metadata": {},
   "outputs": [],
   "source": [
    "from data_loading_utils import *"
   ]
  },
  {
   "cell_type": "code",
   "execution_count": 4,
   "metadata": {},
   "outputs": [],
   "source": [
    "PATH = Path('data/audioset')\n",
    "\n",
    "TRAIN_PATH = PATH/'train_segments_mono'\n",
    "VALID_PATH = PATH/'eval_segments_mono'\n",
    "\n",
    "TRAIN_PATH_LMS = PATH/'train_22500_1024_256_128'\n",
    "VALID_PATH_LMS = PATH/'valid_22500_1024_256_128'\n",
    "\n",
    "TRAIN_LABELS_CSV = PATH/'train_segments_cl.csv'\n",
    "VALID_LABELS_CSV = PATH/'eval_segments_cl.csv'\n",
    "\n",
    "LABELS_CSV = PATH/'class_labels_indices.csv'"
   ]
  },
  {
   "cell_type": "code",
   "execution_count": 5,
   "metadata": {},
   "outputs": [
    {
     "data": {
      "text/html": [
       "<div>\n",
       "<style scoped>\n",
       "    .dataframe tbody tr th:only-of-type {\n",
       "        vertical-align: middle;\n",
       "    }\n",
       "\n",
       "    .dataframe tbody tr th {\n",
       "        vertical-align: top;\n",
       "    }\n",
       "\n",
       "    .dataframe thead th {\n",
       "        text-align: right;\n",
       "    }\n",
       "</style>\n",
       "<table border=\"1\" class=\"dataframe\">\n",
       "  <thead>\n",
       "    <tr style=\"text-align: right;\">\n",
       "      <th></th>\n",
       "      <th>YTID</th>\n",
       "      <th>positive_labels</th>\n",
       "      <th>fname</th>\n",
       "    </tr>\n",
       "  </thead>\n",
       "  <tbody>\n",
       "    <tr>\n",
       "      <th>0</th>\n",
       "      <td>--ZhevVpy1s</td>\n",
       "      <td>/m/012xff</td>\n",
       "      <td>--ZhevVpy1s_50.000.wav</td>\n",
       "    </tr>\n",
       "    <tr>\n",
       "      <th>1</th>\n",
       "      <td>--aE2O5G5WE</td>\n",
       "      <td>/m/03fwl,/m/04rlf,/m/09x0r</td>\n",
       "      <td>--aE2O5G5WE_0.000.wav</td>\n",
       "    </tr>\n",
       "    <tr>\n",
       "      <th>2</th>\n",
       "      <td>--aO5cdqSAg</td>\n",
       "      <td>/t/dd00003,/t/dd00005</td>\n",
       "      <td>--aO5cdqSAg_30.000.wav</td>\n",
       "    </tr>\n",
       "    <tr>\n",
       "      <th>3</th>\n",
       "      <td>--aaILOrkII</td>\n",
       "      <td>/m/032s66,/m/073cg4</td>\n",
       "      <td>--aaILOrkII_200.000.wav</td>\n",
       "    </tr>\n",
       "    <tr>\n",
       "      <th>4</th>\n",
       "      <td>--cB2ZVjpnA</td>\n",
       "      <td>/m/01y3hg</td>\n",
       "      <td>--cB2ZVjpnA_30.000.wav</td>\n",
       "    </tr>\n",
       "  </tbody>\n",
       "</table>\n",
       "</div>"
      ],
      "text/plain": [
       "          YTID             positive_labels                    fname\n",
       "0  --ZhevVpy1s                   /m/012xff   --ZhevVpy1s_50.000.wav\n",
       "1  --aE2O5G5WE  /m/03fwl,/m/04rlf,/m/09x0r    --aE2O5G5WE_0.000.wav\n",
       "2  --aO5cdqSAg       /t/dd00003,/t/dd00005   --aO5cdqSAg_30.000.wav\n",
       "3  --aaILOrkII         /m/032s66,/m/073cg4  --aaILOrkII_200.000.wav\n",
       "4  --cB2ZVjpnA                   /m/01y3hg   --cB2ZVjpnA_30.000.wav"
      ]
     },
     "execution_count": 5,
     "metadata": {},
     "output_type": "execute_result"
    }
   ],
   "source": [
    "train = pd.read_csv(PATH/'train.csv')\n",
    "valid = pd.read_csv(PATH/'valid.csv')\n",
    "train.head()"
   ]
  },
  {
   "cell_type": "code",
   "execution_count": 6,
   "metadata": {},
   "outputs": [],
   "source": [
    "label_df = pd.read_csv(LABELS_CSV, index_col='mid', usecols=['mid', 'display_name'])\n",
    "label_ids = sorted(label_df.index)\n",
    "label_id_toi = {label_id:i for i, label_id in enumerate(label_ids)}\n",
    "labels = [label_df.loc[label_ids[i]].display_name for i in range(len(label_ids))]"
   ]
  },
  {
   "cell_type": "code",
   "execution_count": 7,
   "metadata": {},
   "outputs": [],
   "source": [
    "def get_y(df):\n",
    "    df_labels = df['positive_labels']\n",
    "    y = np.zeros((len(df_labels), len(labels)))\n",
    "    for i, idxs in enumerate(df_labels.apply(lambda row_labels: [label_id_toi[label]\n",
    "                                                                 for label in row_labels.split(',')])):\n",
    "        y[i, idxs] = 1\n",
    "    return y"
   ]
  },
  {
   "cell_type": "code",
   "execution_count": 8,
   "metadata": {},
   "outputs": [
    {
     "data": {
      "text/plain": [
       "(18725, 527)"
      ]
     },
     "execution_count": 8,
     "metadata": {},
     "output_type": "execute_result"
    }
   ],
   "source": [
    "train_y = get_y(train)\n",
    "train_y.shape"
   ]
  },
  {
   "cell_type": "code",
   "execution_count": 9,
   "metadata": {},
   "outputs": [
    {
     "data": {
      "text/plain": [
       "(17492, 527)"
      ]
     },
     "execution_count": 9,
     "metadata": {},
     "output_type": "execute_result"
    }
   ],
   "source": [
    "valid_y = get_y(valid)\n",
    "valid_y.shape"
   ]
  },
  {
   "cell_type": "code",
   "execution_count": 12,
   "metadata": {},
   "outputs": [],
   "source": [
    "stats = (-26.88621199474663, 19.561070532225614)\n",
    "\n",
    "norm = Normalize(*stats)\n",
    "shift = RandomPitchTimeShift(min_x=1.0, max_x=1.0, max_y=1.2)\n",
    "light = RandomLight()\n",
    "\n",
    "# NOTE: using these transforms did show slight improvement at one point..\n",
    "# and used with TTA also got a slight bump when making predictions\n",
    "# trn_tfms = Transforms([light, shift, norm])\n",
    "trn_tfms = Transforms([norm])\n",
    "val_tfms = Transforms([norm])"
   ]
  },
  {
   "cell_type": "code",
   "execution_count": 33,
   "metadata": {},
   "outputs": [],
   "source": [
    "num_classes = len(labels)\n",
    "opt = optim.Adam\n",
    "metrics = [recall, precision, f1]\n",
    "loss = F.binary_cross_entropy_with_logits # needed since originally included the nn.Sigmoid final layer\n",
    "\n",
    "# TODO: switch back to these when fine tuning\n",
    "# metrics = [accuracy, mapk]\n",
    "# loss = F.cross_entropy"
   ]
  },
  {
   "cell_type": "code",
   "execution_count": 14,
   "metadata": {},
   "outputs": [],
   "source": [
    "class AudioSetFilesDataset(BaseDataset):\n",
    "    def __init__(self, path, fnames, y, use_tfms=False, transform=None):\n",
    "        self.path = Path(path)\n",
    "        self.fnames = fnames\n",
    "        self.y = y\n",
    "        self.use_tfms = use_tfms\n",
    "        assert len(fnames) == len(y)\n",
    "        super().__init__(transform)\n",
    "    def get_x(self, i):\n",
    "        fname = self.fnames[i]\n",
    "        if self.use_tfms:\n",
    "            fname = f'{fname[:-4]}_{np.random.randint(10)}.wav'\n",
    "        fname = self.path/f'{fname}.npy'\n",
    "        return np.load(fname)\n",
    "    def get_y(self, i):\n",
    "        return self.y[i]\n",
    "    def get_n(self):\n",
    "        return len(self.y)\n",
    "    def get_c(self):\n",
    "        return self.y.shape[1] if len(self.y.shape)>1 else 0\n",
    "    def get_sz(self):\n",
    "        return self.get_x(0).shape[0]\n",
    "    @property\n",
    "    def is_multi(self): return True"
   ]
  },
  {
   "cell_type": "code",
   "execution_count": 16,
   "metadata": {},
   "outputs": [],
   "source": [
    "bs = 4\n",
    "\n",
    "train_fname = train.fname\n",
    "valid_fname = valid.fname\n",
    "\n",
    "trn_ds = AudioSetFilesDataset(TRAIN_PATH_LMS, train_fname, train_y, transform=trn_tfms)\n",
    "trn_dl = AudioDataLoader2d(trn_ds,\n",
    "                           batch_size=bs,\n",
    "                           sampler=SortishSampler(trn_ds, key=lambda x: trn_ds[x][0].shape[1], bs=bs))\n",
    "\n",
    "val_ds = AudioSetFilesDataset(VALID_PATH_LMS, valid_fname, valid_y, transform=val_tfms)\n",
    "val_dl = AudioDataLoader2d(val_ds,\n",
    "                           batch_size=bs,\n",
    "                           sampler=SortSampler(val_ds, key=lambda x: val_ds[x][0].shape[1]))"
   ]
  },
  {
   "cell_type": "code",
   "execution_count": 17,
   "metadata": {},
   "outputs": [],
   "source": [
    "def conv_block(in_channels, out_channels, kernel_size=3, stride=1, padding=1):\n",
    "    conv = nn.Conv2d(in_channels, \n",
    "                     out_channels,\n",
    "                     kernel_size=kernel_size, \n",
    "                     stride=stride,\n",
    "                     padding=padding, \n",
    "                     bias=False)\n",
    "    batch_norm = nn.BatchNorm2d(out_channels, \n",
    "                                momentum=0.01)\n",
    "    relu = nn.ReLU()\n",
    "    return nn.Sequential(conv, batch_norm, relu)\n",
    "\n",
    "class AudioCNN(nn.Module):\n",
    "    def __init__(self, n_classes):\n",
    "        super().__init__()\n",
    "        layers = [Lambda(lambda x: x.view(x.shape[0], 1, x.shape[1], x.shape[2]))]\n",
    "\n",
    "        # B1 to B5\n",
    "        in_channels = 1\n",
    "        num_filters = [16, 32, 64, 128, 256]\n",
    "        for out_channels in num_filters:\n",
    "            layers += [conv_block(in_channels,  out_channels, kernel_size=3, padding=1),\n",
    "                       conv_block(out_channels, out_channels, kernel_size=3, padding=1),\n",
    "                       nn.MaxPool2d(2)]\n",
    "            in_channels = out_channels\n",
    "        \n",
    "        # B6\n",
    "        layers += [conv_block(256, 512, kernel_size=3, padding=1)] #  nn.MaxPool2d(2)]\n",
    "        \n",
    "        # F1\n",
    "        layers += [conv_block(512, 1024, kernel_size=2, padding=0)]\n",
    "        \n",
    "        # F2\n",
    "        #layers += [conv_block(1024, n_classes, kernel_size=1, padding=0)]\n",
    "        layers += [\n",
    "            nn.AdaptiveAvgPool2d(1),\n",
    "            Flatten(),\n",
    "            #nn.Dropout(0.1),\n",
    "            nn.Linear(1024, num_classes),\n",
    "            nn.Sigmoid() # added\n",
    "        ]\n",
    "                \n",
    "        self.layers = nn.Sequential(*layers)\n",
    "        self.n_classes = n_classes\n",
    "        \n",
    "    def forward(self, x):\n",
    "        return self.layers(x)"
   ]
  },
  {
   "cell_type": "code",
   "execution_count": 18,
   "metadata": {},
   "outputs": [],
   "source": [
    "md = ModelData(PATH, trn_dl, val_dl)\n",
    "model = AudioCNN(num_classes).cuda()\n",
    "learn = ConvLearner.from_model_data(model, md, crit=loss, metrics=metrics, opt_fn=opt)"
   ]
  },
  {
   "cell_type": "code",
   "execution_count": 19,
   "metadata": {},
   "outputs": [],
   "source": [
    "learn.load_cycle('Audioset_CNN_1024_256_128_modified', 50)"
   ]
  },
  {
   "cell_type": "code",
   "execution_count": 28,
   "metadata": {},
   "outputs": [],
   "source": [
    "val_log_preds, val_targs = learn.predict_with_targs()"
   ]
  },
  {
   "cell_type": "code",
   "execution_count": 30,
   "metadata": {},
   "outputs": [],
   "source": [
    "val_log_preds = torch.from_numpy(val_log_preds)\n",
    "val_targs = torch.from_numpy(val_targs)"
   ]
  },
  {
   "cell_type": "code",
   "execution_count": 32,
   "metadata": {},
   "outputs": [
    {
     "name": "stdout",
     "output_type": "stream",
     "text": [
      "Recall:  0.27513024650984463\n",
      "Precision:  0.48190724500276527\n",
      "F1:  0.3502792413822806\n"
     ]
    }
   ],
   "source": [
    "print(\"Recall: \", recall(val_log_preds, val_targs))\n",
    "print(\"Precision: \", precision(val_log_preds, val_targs))\n",
    "print(\"F1: \", f1(val_log_preds, val_targs))"
   ]
  },
  {
   "cell_type": "code",
   "execution_count": null,
   "metadata": {},
   "outputs": [],
   "source": []
  }
 ],
 "metadata": {
  "kernelspec": {
   "display_name": "Python 3",
   "language": "python",
   "name": "python3"
  },
  "language_info": {
   "codemirror_mode": {
    "name": "ipython",
    "version": 3
   },
   "file_extension": ".py",
   "mimetype": "text/x-python",
   "name": "python",
   "nbconvert_exporter": "python",
   "pygments_lexer": "ipython3",
   "version": "3.6.5"
  }
 },
 "nbformat": 4,
 "nbformat_minor": 2
}
