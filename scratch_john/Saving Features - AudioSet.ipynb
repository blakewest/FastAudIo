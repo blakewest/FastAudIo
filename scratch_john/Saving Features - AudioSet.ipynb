{
 "cells": [
  {
   "cell_type": "code",
   "execution_count": 2,
   "metadata": {},
   "outputs": [],
   "source": [
    "%matplotlib inline\n",
    "%reload_ext autoreload\n",
    "%autoreload 2"
   ]
  },
  {
   "cell_type": "code",
   "execution_count": 3,
   "metadata": {},
   "outputs": [],
   "source": [
    "import IPython.display as ipd\n",
    "from pathlib import Path\n",
    "from multiprocessing import Pool\n",
    "import torch\n",
    "import librosa\n",
    "import numpy as np\n",
    "import pandas as pd\n",
    "import matplotlib.pyplot as plt\n",
    "from data_loading_utils import *\n",
    "from preprocessing_utils import *\n",
    "from helpers import *\n",
    "from metrics import *"
   ]
  },
  {
   "cell_type": "code",
   "execution_count": 15,
   "metadata": {},
   "outputs": [],
   "source": [
    "PATH = Path('data/audioset')\n",
    "TRAIN_PATH = PATH/'train_segments_mono'\n",
    "VALID_PATH = PATH/'eval_segments_mono'\n",
    "\n",
    "sample_rate = 22500\n",
    "n_features = 128\n",
    "n_fft = 1024\n",
    "hop_length = 256"
   ]
  },
  {
   "cell_type": "code",
   "execution_count": 5,
   "metadata": {},
   "outputs": [
    {
     "data": {
      "text/html": [
       "<div>\n",
       "<style scoped>\n",
       "    .dataframe tbody tr th:only-of-type {\n",
       "        vertical-align: middle;\n",
       "    }\n",
       "\n",
       "    .dataframe tbody tr th {\n",
       "        vertical-align: top;\n",
       "    }\n",
       "\n",
       "    .dataframe thead th {\n",
       "        text-align: right;\n",
       "    }\n",
       "</style>\n",
       "<table border=\"1\" class=\"dataframe\">\n",
       "  <thead>\n",
       "    <tr style=\"text-align: right;\">\n",
       "      <th></th>\n",
       "      <th>Unnamed: 0</th>\n",
       "      <th>YTID</th>\n",
       "      <th>positive_labels</th>\n",
       "      <th>fname</th>\n",
       "    </tr>\n",
       "  </thead>\n",
       "  <tbody>\n",
       "    <tr>\n",
       "      <th>0</th>\n",
       "      <td>0</td>\n",
       "      <td>--ZhevVpy1s</td>\n",
       "      <td>/m/012xff</td>\n",
       "      <td>--ZhevVpy1s_50.000.wav</td>\n",
       "    </tr>\n",
       "    <tr>\n",
       "      <th>1</th>\n",
       "      <td>1</td>\n",
       "      <td>--aE2O5G5WE</td>\n",
       "      <td>/m/03fwl,/m/04rlf,/m/09x0r</td>\n",
       "      <td>--aE2O5G5WE_0.000.wav</td>\n",
       "    </tr>\n",
       "    <tr>\n",
       "      <th>2</th>\n",
       "      <td>2</td>\n",
       "      <td>--aO5cdqSAg</td>\n",
       "      <td>/t/dd00003,/t/dd00005</td>\n",
       "      <td>--aO5cdqSAg_30.000.wav</td>\n",
       "    </tr>\n",
       "    <tr>\n",
       "      <th>3</th>\n",
       "      <td>3</td>\n",
       "      <td>--aaILOrkII</td>\n",
       "      <td>/m/032s66,/m/073cg4</td>\n",
       "      <td>--aaILOrkII_200.000.wav</td>\n",
       "    </tr>\n",
       "    <tr>\n",
       "      <th>4</th>\n",
       "      <td>4</td>\n",
       "      <td>--cB2ZVjpnA</td>\n",
       "      <td>/m/01y3hg</td>\n",
       "      <td>--cB2ZVjpnA_30.000.wav</td>\n",
       "    </tr>\n",
       "  </tbody>\n",
       "</table>\n",
       "</div>"
      ],
      "text/plain": [
       "   Unnamed: 0         YTID             positive_labels  \\\n",
       "0           0  --ZhevVpy1s                   /m/012xff   \n",
       "1           1  --aE2O5G5WE  /m/03fwl,/m/04rlf,/m/09x0r   \n",
       "2           2  --aO5cdqSAg       /t/dd00003,/t/dd00005   \n",
       "3           3  --aaILOrkII         /m/032s66,/m/073cg4   \n",
       "4           4  --cB2ZVjpnA                   /m/01y3hg   \n",
       "\n",
       "                     fname  \n",
       "0   --ZhevVpy1s_50.000.wav  \n",
       "1    --aE2O5G5WE_0.000.wav  \n",
       "2   --aO5cdqSAg_30.000.wav  \n",
       "3  --aaILOrkII_200.000.wav  \n",
       "4   --cB2ZVjpnA_30.000.wav  "
      ]
     },
     "execution_count": 5,
     "metadata": {},
     "output_type": "execute_result"
    }
   ],
   "source": [
    "train = pd.read_csv(PATH/'train.csv')\n",
    "train.head()"
   ]
  },
  {
   "cell_type": "code",
   "execution_count": 6,
   "metadata": {},
   "outputs": [
    {
     "data": {
      "text/html": [
       "<div>\n",
       "<style scoped>\n",
       "    .dataframe tbody tr th:only-of-type {\n",
       "        vertical-align: middle;\n",
       "    }\n",
       "\n",
       "    .dataframe tbody tr th {\n",
       "        vertical-align: top;\n",
       "    }\n",
       "\n",
       "    .dataframe thead th {\n",
       "        text-align: right;\n",
       "    }\n",
       "</style>\n",
       "<table border=\"1\" class=\"dataframe\">\n",
       "  <thead>\n",
       "    <tr style=\"text-align: right;\">\n",
       "      <th></th>\n",
       "      <th>Unnamed: 0</th>\n",
       "      <th>YTID</th>\n",
       "      <th>positive_labels</th>\n",
       "      <th>fname</th>\n",
       "    </tr>\n",
       "  </thead>\n",
       "  <tbody>\n",
       "    <tr>\n",
       "      <th>0</th>\n",
       "      <td>0</td>\n",
       "      <td>--4gqARaEJE</td>\n",
       "      <td>/m/068hy,/m/07q6cd_,/m/0bt9lr,/m/0jbk</td>\n",
       "      <td>--4gqARaEJE_0.000.wav</td>\n",
       "    </tr>\n",
       "    <tr>\n",
       "      <th>1</th>\n",
       "      <td>1</td>\n",
       "      <td>--BfvyPmVMo</td>\n",
       "      <td>/m/03l9g</td>\n",
       "      <td>--BfvyPmVMo_20.000.wav</td>\n",
       "    </tr>\n",
       "    <tr>\n",
       "      <th>2</th>\n",
       "      <td>2</td>\n",
       "      <td>--U7joUcTCo</td>\n",
       "      <td>/m/01b_21</td>\n",
       "      <td>--U7joUcTCo_0.000.wav</td>\n",
       "    </tr>\n",
       "    <tr>\n",
       "      <th>3</th>\n",
       "      <td>3</td>\n",
       "      <td>--i-y1v8Hy8</td>\n",
       "      <td>/m/04rlf,/m/09x0r,/t/dd00004,/t/dd00005</td>\n",
       "      <td>--i-y1v8Hy8_0.000.wav</td>\n",
       "    </tr>\n",
       "    <tr>\n",
       "      <th>4</th>\n",
       "      <td>4</td>\n",
       "      <td>-0BIyqJj9ZU</td>\n",
       "      <td>/m/07rgt08,/m/07sq110,/t/dd00001</td>\n",
       "      <td>-0BIyqJj9ZU_30.000.wav</td>\n",
       "    </tr>\n",
       "  </tbody>\n",
       "</table>\n",
       "</div>"
      ],
      "text/plain": [
       "   Unnamed: 0         YTID                          positive_labels  \\\n",
       "0           0  --4gqARaEJE    /m/068hy,/m/07q6cd_,/m/0bt9lr,/m/0jbk   \n",
       "1           1  --BfvyPmVMo                                 /m/03l9g   \n",
       "2           2  --U7joUcTCo                                /m/01b_21   \n",
       "3           3  --i-y1v8Hy8  /m/04rlf,/m/09x0r,/t/dd00004,/t/dd00005   \n",
       "4           4  -0BIyqJj9ZU         /m/07rgt08,/m/07sq110,/t/dd00001   \n",
       "\n",
       "                    fname  \n",
       "0   --4gqARaEJE_0.000.wav  \n",
       "1  --BfvyPmVMo_20.000.wav  \n",
       "2   --U7joUcTCo_0.000.wav  \n",
       "3   --i-y1v8Hy8_0.000.wav  \n",
       "4  -0BIyqJj9ZU_30.000.wav  "
      ]
     },
     "execution_count": 6,
     "metadata": {},
     "output_type": "execute_result"
    }
   ],
   "source": [
    "valid = pd.read_csv(PATH/'valid.csv')\n",
    "valid.head()"
   ]
  },
  {
   "cell_type": "code",
   "execution_count": 7,
   "metadata": {},
   "outputs": [],
   "source": [
    "train_fname = train.fname\n",
    "valid_fname = valid.fname"
   ]
  },
  {
   "cell_type": "code",
   "execution_count": 8,
   "metadata": {},
   "outputs": [
    {
     "data": {
      "text/plain": [
       "(18725, 17492)"
      ]
     },
     "execution_count": 8,
     "metadata": {},
     "output_type": "execute_result"
    }
   ],
   "source": [
    "len(train_fname), len(valid_fname)"
   ]
  },
  {
   "cell_type": "code",
   "execution_count": 9,
   "metadata": {},
   "outputs": [],
   "source": [
    "TRAIN_PATH_LMS = PATH/f'train_{sample_rate}_{n_fft}_{hop_length}_{n_features}'\n",
    "TRAIN_PATH_LMS.mkdir(exist_ok=True)\n"
   ]
  },
  {
   "cell_type": "code",
   "execution_count": 10,
   "metadata": {},
   "outputs": [],
   "source": [
    "VALID_PATH_LMS = PATH/f'valid_{sample_rate}_{n_fft}_{hop_length}_{n_features}'\n",
    "VALID_PATH_LMS.mkdir(exist_ok=True)"
   ]
  },
  {
   "cell_type": "code",
   "execution_count": 18,
   "metadata": {},
   "outputs": [
    {
     "data": {
      "text/plain": [
       "(PosixPath('data/audioset/train_22500_1024_256_128'),\n",
       " PosixPath('data/audioset/valid_22500_1024_256_128'))"
      ]
     },
     "execution_count": 18,
     "metadata": {},
     "output_type": "execute_result"
    }
   ],
   "source": [
    "TRAIN_PATH_LMS, VALID_PATH_LMS"
   ]
  },
  {
   "cell_type": "code",
   "execution_count": 16,
   "metadata": {},
   "outputs": [],
   "source": [
    "SRC_PATH = VALID_PATH\n",
    "DST_PATH = VALID_PATH_LMS\n",
    "\n",
    "def convert_feature(filename, src_path=SRC_PATH, dst_path=DST_PATH, sample_rate=sample_rate):\n",
    "    data, file_sr = read_file(filename, path=src_path, sample_rate=sample_rate)\n",
    "    if data.shape[0] > 0:\n",
    "        mel_spec = librosa.feature.melspectrogram(data,\n",
    "                                                  sr=sample_rate, \n",
    "                                                  n_mels=n_features, \n",
    "                                                  n_fft=n_fft, \n",
    "                                                  hop_length=hop_length)\n",
    "    else:\n",
    "        mel_spec = np.zeros((n_mels, 1))\n",
    "    power_spec = librosa.power_to_db(mel_spec)\n",
    "    dst_filename = dst_path/f'{filename}.npy'\n",
    "    np.save(dst_filename, power_spec)"
   ]
  },
  {
   "cell_type": "code",
   "execution_count": 17,
   "metadata": {},
   "outputs": [
    {
     "data": {
      "application/vnd.jupyter.widget-view+json": {
       "model_id": "b2cf622701fa4616b220223dfb5b582d",
       "version_major": 2,
       "version_minor": 0
      },
      "text/plain": [
       "A Jupyter Widget"
      ]
     },
     "metadata": {},
     "output_type": "display_data"
    },
    {
     "name": "stdout",
     "output_type": "stream",
     "text": [
      "\n"
     ]
    }
   ],
   "source": [
    "processes = 8\n",
    "fnames = valid_fname\n",
    "\n",
    "with Pool(processes=processes) as pool:\n",
    "    total_tfms = len(fnames)    \n",
    "    with tqdm(total=total_tfms) as pbar:\n",
    "        for _ in pool.imap_unordered(convert_feature, fnames):\n",
    "            pbar.update()"
   ]
  },
  {
   "cell_type": "markdown",
   "metadata": {},
   "source": [
    "### Calculating get_stats"
   ]
  },
  {
   "cell_type": "code",
   "execution_count": null,
   "metadata": {},
   "outputs": [],
   "source": [
    "trn_files = list(TRAIN_PATH_LMS.iterdir())\n",
    "trn_features = [np.load(f) for f in trn_files]\n",
    "len(trn_features)"
   ]
  },
  {
   "cell_type": "code",
   "execution_count": null,
   "metadata": {},
   "outputs": [],
   "source": [
    "def get_stats(objects):\n",
    "    sizes, means, stds = zip(*((o.size, o.mean(), o.std()) for o in objects))\n",
    "    sizes, means, stds = np.array(sizes), np.array(means), np.array(stds)\n",
    "    weighted_mean = (means * sizes).sum() / sizes.sum()\n",
    "    # https://stats.stackexchange.com/questions/55999/is-it-possible-to-find-the-combined-standard-deviation\n",
    "    weighted_std = np.sqrt(((sizes * stds**2.0).sum() + (sizes * (means - weighted_mean)**2.0).sum())/(sizes.sum()))\n",
    "    return weighted_mean, weighted_std\n",
    "\n",
    "mean, std = get_stats(trn_features)\n",
    "mean, std"
   ]
  },
  {
   "cell_type": "code",
   "execution_count": null,
   "metadata": {},
   "outputs": [],
   "source": []
  }
 ],
 "metadata": {
  "kernelspec": {
   "display_name": "Python 3",
   "language": "python",
   "name": "python3"
  },
  "language_info": {
   "codemirror_mode": {
    "name": "ipython",
    "version": 3
   },
   "file_extension": ".py",
   "mimetype": "text/x-python",
   "name": "python",
   "nbconvert_exporter": "python",
   "pygments_lexer": "ipython3",
   "version": "3.6.5"
  }
 },
 "nbformat": 4,
 "nbformat_minor": 2
}
