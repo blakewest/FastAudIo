{
 "cells": [
  {
   "cell_type": "code",
   "execution_count": 1,
   "metadata": {},
   "outputs": [],
   "source": [
    "%matplotlib inline\n",
    "%reload_ext autoreload\n",
    "%autoreload 2"
   ]
  },
  {
   "cell_type": "code",
   "execution_count": 2,
   "metadata": {},
   "outputs": [],
   "source": [
    "import IPython.display as ipd\n",
    "from pathlib import Path"
   ]
  },
  {
   "cell_type": "code",
   "execution_count": 3,
   "metadata": {},
   "outputs": [],
   "source": [
    "import torch\n",
    "import librosa\n",
    "import numpy as np\n",
    "import pandas as pd\n",
    "from data_loading_utils import read_file, write_file\n",
    "from tqdm import tqdm_notebook as tqdm"
   ]
  },
  {
   "cell_type": "code",
   "execution_count": 4,
   "metadata": {},
   "outputs": [],
   "source": [
    "PATH = Path('data/audioset')\n",
    "TRAIN_PATH = PATH/'train_segments'\n",
    "TRAIN_PATH_MONO = PATH/'train_segments_mono'\n",
    "VALID_PATH = PATH/'eval_segments'\n",
    "VALID_PATH_MONO = PATH/'eval_segments_mono'"
   ]
  },
  {
   "cell_type": "code",
   "execution_count": 5,
   "metadata": {},
   "outputs": [],
   "source": [
    "def convert_to_mono(src_path, dst_path):\n",
    "    src_path = Path(src_path)\n",
    "    dst_path = Path(dst_path)\n",
    "    dst_path.mkdir(exist_ok=True)\n",
    "    fnames = list(src_path.iterdir())\n",
    "    for fname in tqdm(fnames):\n",
    "        data, sr = read_file(fname)\n",
    "        if len(data.shape) > 1:\n",
    "            data = librosa.core.to_mono(data.T) # expects 2,n.. read_file returns n,2\n",
    "        write_file(data, fname.name, path=dst_path, sample_rate=sr)"
   ]
  },
  {
   "cell_type": "code",
   "execution_count": 6,
   "metadata": {},
   "outputs": [
    {
     "data": {
      "application/vnd.jupyter.widget-view+json": {
       "model_id": "b5bc76d39a494454ab1c9ea543fddd9c",
       "version_major": 2,
       "version_minor": 0
      },
      "text/plain": [
       "A Jupyter Widget"
      ]
     },
     "metadata": {},
     "output_type": "display_data"
    },
    {
     "name": "stdout",
     "output_type": "stream",
     "text": [
      "\n"
     ]
    }
   ],
   "source": [
    "# convert_to_mono(TRAIN_PATH, TRAIN_PATH_MONO)\n",
    "convert_to_mono(VALID_PATH, VALID_PATH_MONO)"
   ]
  },
  {
   "cell_type": "code",
   "execution_count": null,
   "metadata": {},
   "outputs": [],
   "source": []
  }
 ],
 "metadata": {
  "kernelspec": {
   "display_name": "Python 3",
   "language": "python",
   "name": "python3"
  },
  "language_info": {
   "codemirror_mode": {
    "name": "ipython",
    "version": 3
   },
   "file_extension": ".py",
   "mimetype": "text/x-python",
   "name": "python",
   "nbconvert_exporter": "python",
   "pygments_lexer": "ipython3",
   "version": "3.6.5"
  }
 },
 "nbformat": 4,
 "nbformat_minor": 2
}
