{
 "cells": [
  {
   "cell_type": "code",
   "execution_count": 1,
   "metadata": {},
   "outputs": [],
   "source": [
    "%matplotlib inline\n",
    "%reload_ext autoreload\n",
    "%autoreload 2"
   ]
  },
  {
   "cell_type": "code",
   "execution_count": 2,
   "metadata": {},
   "outputs": [],
   "source": [
    "import IPython.display as ipd\n",
    "from pathlib import Path\n",
    "from multiprocessing import Pool\n",
    "import torch\n",
    "import librosa\n",
    "import numpy as np\n",
    "import pandas as pd\n",
    "import matplotlib.pyplot as plt\n",
    "from data_loading_utils import *\n",
    "from preprocessing_utils import *\n",
    "from helpers import *\n",
    "from metrics import *"
   ]
  },
  {
   "cell_type": "code",
   "execution_count": 3,
   "metadata": {},
   "outputs": [],
   "source": [
    "PATH = Path('data/')\n",
    "TRAIN_PATH = PATH/'audio_train_24000'\n",
    "TEST_PATH = PATH/'audio_test_24000'\n",
    "\n",
    "sample_rate = 24000\n",
    "n_features = 128\n",
    "n_fft = 1024\n",
    "hop_length = 256"
   ]
  },
  {
   "cell_type": "code",
   "execution_count": 4,
   "metadata": {},
   "outputs": [],
   "source": [
    "train = pd.read_csv(PATH/'train.csv')\n",
    "test = pd.read_csv(PATH/'sample_submission.csv')\n",
    "labels = sorted(train.label.unique())\n",
    "label_idx = {label:i for i, label in enumerate(labels)}"
   ]
  },
  {
   "cell_type": "code",
   "execution_count": 5,
   "metadata": {},
   "outputs": [],
   "source": [
    "train_fname = train.fname\n",
    "test_fname = test.fname "
   ]
  },
  {
   "cell_type": "code",
   "execution_count": 6,
   "metadata": {},
   "outputs": [
    {
     "data": {
      "text/plain": [
       "9473"
      ]
     },
     "execution_count": 6,
     "metadata": {},
     "output_type": "execute_result"
    }
   ],
   "source": [
    "len(train_fname)"
   ]
  },
  {
   "cell_type": "code",
   "execution_count": null,
   "metadata": {},
   "outputs": [],
   "source": [
    "TRAIN_PATH_LMS = PATH/f'audio_train_tfms_{sample_rate}_{n_fft}_{hop_length}_{n_features}'\n",
    "TRAIN_PATH_LMS.mkdir(exist_ok=True)\n",
    "# TEST_PATH_LMS = PATH/f'audio_test_{sample_rate}_{n_fft}_{hop_length}_{n_features}'\n",
    "# str(TRAIN_PATH_LMS), str(TEST_PATH_LMS)"
   ]
  },
  {
   "cell_type": "code",
   "execution_count": 23,
   "metadata": {},
   "outputs": [
    {
     "data": {
      "text/plain": [
       "9473"
      ]
     },
     "execution_count": 23,
     "metadata": {},
     "output_type": "execute_result"
    }
   ],
   "source": [
    "trn_files = list(TRAIN_PATH_LMS.iterdir())\n",
    "trn_features = [np.load(f) for f in trn_files]\n",
    "len(trn_features)\n",
    "# test_files = list(TEST_PATH_LMS.iterdir())\n",
    "# test_features = [np.load(f) for f in test_files]\n",
    "# len(trn_files), #len(test_files)\n",
    "\n"
   ]
  },
  {
   "cell_type": "code",
   "execution_count": 24,
   "metadata": {},
   "outputs": [
    {
     "data": {
      "text/plain": [
       "(-34.1864115452616, 17.731700449450333)"
      ]
     },
     "execution_count": 24,
     "metadata": {},
     "output_type": "execute_result"
    }
   ],
   "source": [
    "def get_stats(objects):\n",
    "    sizes, means, stds = zip(*((o.size, o.mean(), o.std()) for o in objects))\n",
    "    sizes, means, stds = np.array(sizes), np.array(means), np.array(stds)\n",
    "    weighted_mean = (means * sizes).sum() / sizes.sum()\n",
    "    # https://stats.stackexchange.com/questions/55999/is-it-possible-to-find-the-combined-standard-deviation\n",
    "    weighted_std = np.sqrt(((sizes * stds**2.0).sum() + (sizes * (means - weighted_mean)**2.0).sum())/(sizes.sum()))\n",
    "    return weighted_mean, weighted_std\n",
    "\n",
    "mean, std = get_stats(trn_features)\n",
    "mean, std"
   ]
  },
  {
   "cell_type": "markdown",
   "metadata": {},
   "source": [
    "### Calculating get_stats"
   ]
  },
  {
   "cell_type": "code",
   "execution_count": null,
   "metadata": {},
   "outputs": [],
   "source": [
    "def convert_feature(filename, src_path=TRAIN_PATH, dst_path=TRAIN_PATH_LMS, sample_rate=sample_rate):\n",
    "    data, file_sr = read_file(filename, path=src_path, sample_rate=sample_rate)\n",
    "    if data.shape[0] > 0:\n",
    "        mel_spec = librosa.feature.melspectrogram(data,\n",
    "                                                  sr=sample_rate, \n",
    "                                                  n_mels=n_features, \n",
    "                                                  n_fft=n_fft, \n",
    "                                                  hop_length=hop_length)\n",
    "    else:\n",
    "        mel_spec = np.zeros((n_mels, 1))\n",
    "    power_spec = librosa.power_to_db(mel_spec)\n",
    "    dst_filename = dst_path/f'{filename}.npy'\n",
    "    np.save(dst_filename, power_spec)"
   ]
  },
  {
   "cell_type": "code",
   "execution_count": 17,
   "metadata": {},
   "outputs": [],
   "source": [
    "convert_stft(train_fname[0])"
   ]
  },
  {
   "cell_type": "code",
   "execution_count": 20,
   "metadata": {},
   "outputs": [
    {
     "data": {
      "text/plain": [
       "9473"
      ]
     },
     "execution_count": 20,
     "metadata": {},
     "output_type": "execute_result"
    }
   ],
   "source": [
    "fnames = train_fname.values\n",
    "len(fnames)"
   ]
  },
  {
   "cell_type": "code",
   "execution_count": null,
   "metadata": {},
   "outputs": [
    {
     "data": {
      "application/vnd.jupyter.widget-view+json": {
       "model_id": "55af2462d3c8446a9daa738f7c4a8efd",
       "version_major": 2,
       "version_minor": 0
      },
      "text/plain": [
       "A Jupyter Widget"
      ]
     },
     "metadata": {},
     "output_type": "display_data"
    }
   ],
   "source": [
    "processes = 8\n",
    "\n",
    "with Pool(processes=processes) as pool:\n",
    "    total_tfms = len(fnames)    \n",
    "    with tqdm(total=total_tfms) as pbar:\n",
    "        for _ in pool.imap_unordered(convert_feature, fnames):\n",
    "            pbar.update()"
   ]
  },
  {
   "cell_type": "code",
   "execution_count": null,
   "metadata": {},
   "outputs": [],
   "source": []
  }
 ],
 "metadata": {
  "kernelspec": {
   "display_name": "Python 3",
   "language": "python",
   "name": "python3"
  },
  "language_info": {
   "codemirror_mode": {
    "name": "ipython",
    "version": 3
   },
   "file_extension": ".py",
   "mimetype": "text/x-python",
   "name": "python",
   "nbconvert_exporter": "python",
   "pygments_lexer": "ipython3",
   "version": "3.6.5"
  }
 },
 "nbformat": 4,
 "nbformat_minor": 2
}
