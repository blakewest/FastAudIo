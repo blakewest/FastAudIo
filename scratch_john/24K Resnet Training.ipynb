{
 "cells": [
  {
   "cell_type": "code",
   "execution_count": 1,
   "metadata": {},
   "outputs": [],
   "source": [
    "%matplotlib inline\n",
    "%reload_ext autoreload\n",
    "%autoreload 2"
   ]
  },
  {
   "cell_type": "code",
   "execution_count": 2,
   "metadata": {},
   "outputs": [],
   "source": [
    "import IPython.display as ipd\n",
    "from pathlib import Path"
   ]
  },
  {
   "cell_type": "code",
   "execution_count": 3,
   "metadata": {},
   "outputs": [],
   "source": [
    "import torch\n",
    "import librosa\n",
    "import numpy as np\n",
    "import pandas as pd"
   ]
  },
  {
   "cell_type": "code",
   "execution_count": 4,
   "metadata": {},
   "outputs": [],
   "source": [
    "from fastai import *\n",
    "from fastai.conv_learner import *\n",
    "from fastai.core import *\n",
    "from fastai.metrics import *\n",
    "from fastai.text import SortSampler, SortishSampler\n",
    "from data_loading_utils import read_file\n",
    "from preprocessing_utils import load_features\n",
    "from helpers import *\n",
    "from metrics import *\n",
    "from models import *"
   ]
  },
  {
   "cell_type": "code",
   "execution_count": 5,
   "metadata": {},
   "outputs": [],
   "source": [
    "PATH = Path('data/')\n",
    "TRAIN_PATH = PATH/'audio_train_24000'\n",
    "TRAIN_PATH_LMS = PATH/'audio_train_24000_1024_256_128'\n",
    "TRAIN_PATH_LMS_TFM = PATH/'audio_train_tfms_24000_1024_256_128'\n",
    "\n",
    "TEST_PATH = PATH/'audio_test_24000'\n",
    "TEST_PATH_LMS = PATH/'audio_test_24000_1024_256_128'\n",
    "\n",
    "sample_rate = 24000\n",
    "n_features = 128\n",
    "n_fft = 1024\n",
    "hop_length = 256"
   ]
  },
  {
   "cell_type": "code",
   "execution_count": 6,
   "metadata": {},
   "outputs": [
    {
     "data": {
      "text/plain": [
       "(9473, 9473, 9400, 9400)"
      ]
     },
     "execution_count": 6,
     "metadata": {},
     "output_type": "execute_result"
    }
   ],
   "source": [
    "train_csv = pd.read_csv(PATH/'train.csv')\n",
    "train_fname = train_csv.fname.values\n",
    "test_csv = pd.read_csv(PATH/'sample_submission.csv')\n",
    "test_fname = test_csv.fname.values\n",
    "\n",
    "labels = sorted(train_csv.label.unique())\n",
    "label_idx = {label:i for i, label in enumerate(labels)}\n",
    "\n",
    "train_y = train_csv.label.apply(lambda l: label_idx[l]).values\n",
    "test_y = np.zeros(len(test_fname))\n",
    "\n",
    "len(train_fname), len(train_y), len(test_fname), len(test_y)"
   ]
  },
  {
   "cell_type": "code",
   "execution_count": 7,
   "metadata": {},
   "outputs": [],
   "source": [
    "stats = (-40.813029, 20.376415)\n",
    "\n",
    "norm = Normalize(*stats)\n",
    "shift = RandomPitchTimeShift(min_x=1.0, max_x=1.0, max_y=1.2)\n",
    "light = RandomLight()\n",
    "\n",
    "trn_tfms = Transforms([light, shift, norm])\n",
    "val_tfms = Transforms([norm])"
   ]
  },
  {
   "cell_type": "code",
   "execution_count": 8,
   "metadata": {},
   "outputs": [
    {
     "data": {
      "text/plain": [
       "(8108, 8108, 1365, 1365)"
      ]
     },
     "execution_count": 8,
     "metadata": {},
     "output_type": "execute_result"
    }
   ],
   "source": [
    "((val_fname, trn_fname), (val_y, trn_y)) = get_first_split(train_fname, train_y, 7)\n",
    "(len(trn_fname), len(trn_y), len(val_fname), len(val_y))"
   ]
  },
  {
   "cell_type": "code",
   "execution_count": 9,
   "metadata": {},
   "outputs": [],
   "source": [
    "num_classes = len(labels)\n",
    "opt = optim.Adam\n",
    "metrics = [accuracy, mapk]\n",
    "loss = F.cross_entropy"
   ]
  },
  {
   "cell_type": "code",
   "execution_count": 10,
   "metadata": {},
   "outputs": [],
   "source": [
    "bs = 16"
   ]
  },
  {
   "cell_type": "code",
   "execution_count": 11,
   "metadata": {},
   "outputs": [],
   "source": [
    "trn_ds = AudioFilesDataset(TRAIN_PATH_LMS, trn_fname, trn_y, transform=trn_tfms)\n",
    "trn_dl = AudioDataLoader2d(trn_ds,\n",
    "                           batch_size=bs,\n",
    "                           sampler=SortishSampler(trn_ds, key=lambda x: trn_ds[x][0].shape[1], bs=bs))\n",
    "\n",
    "val_ds = AudioFilesDataset(TRAIN_PATH_LMS, val_fname, val_y, transform=val_tfms)\n",
    "val_dl = AudioDataLoader2d(val_ds,\n",
    "                           batch_size=bs,\n",
    "                           sampler=SortSampler(val_ds, key=lambda x: val_ds[x][0].shape[1]))\n",
    "\n",
    "aug_ds = AudioFilesDataset(TRAIN_PATH_LMS, val_fname, val_y, transform=trn_tfms)\n",
    "aug_dl = AudioDataLoader2d(aug_ds,\n",
    "                           batch_size=bs,\n",
    "                           sampler=SortSampler(aug_ds, key=lambda x: aug_ds[x][0].shape[1]))\n",
    "\n",
    "test_ds = AudioFilesDataset(TEST_PATH_LMS, test_fname, test_y, transform=val_tfms)\n",
    "test_dl = AudioDataLoader2d(test_ds, batch_size=1)\n",
    "\n",
    "test_aug_ds = AudioFilesDataset(TEST_PATH_LMS, test_fname, test_y, transform=trn_tfms)\n",
    "test_aug_dl = AudioDataLoader2d(test_aug_ds, batch_size=1)"
   ]
  },
  {
   "cell_type": "code",
   "execution_count": 12,
   "metadata": {},
   "outputs": [],
   "source": [
    "md = ModelData(PATH, trn_dl, val_dl, test_dl)\n",
    "md.aug_dl = aug_dl\n",
    "md.test_aug_dl = test_aug_dl\n",
    "\n",
    "model = AudioResNet(BasicBlock, [4, 3, 2, 2], num_classes=num_classes).cuda()\n",
    "learn = ConvLearner.from_model_data(model, md, crit=loss, metrics=metrics, opt_fn=opt)"
   ]
  },
  {
   "cell_type": "code",
   "execution_count": 13,
   "metadata": {},
   "outputs": [
    {
     "data": {
      "application/vnd.jupyter.widget-view+json": {
       "model_id": "b8081731713843b8a4398933fe1c19ba",
       "version_major": 2,
       "version_minor": 0
      },
      "text/plain": [
       "A Jupyter Widget"
      ]
     },
     "metadata": {},
     "output_type": "display_data"
    },
    {
     "name": "stdout",
     "output_type": "stream",
     "text": [
      " 72%|███████▏  | 366/507 [01:22<00:31,  4.42it/s, loss=13.9]"
     ]
    }
   ],
   "source": [
    "learn.lr_find()"
   ]
  },
  {
   "cell_type": "code",
   "execution_count": 14,
   "metadata": {},
   "outputs": [
    {
     "data": {
      "image/png": "[encoded data removed]",
      "text/plain": [
       "<matplotlib.figure.Figure at 0x7f4df5189860>"
      ]
     },
     "metadata": {},
     "output_type": "display_data"
    }
   ],
   "source": [
    "learn.sched.plot(n_skip_end=100)"
   ]
  },
  {
   "cell_type": "code",
   "execution_count": 15,
   "metadata": {},
   "outputs": [
    {
     "data": {
      "application/vnd.jupyter.widget-view+json": {
       "model_id": "5668ddd4f47142feb87b8130e1ee0103",
       "version_major": 2,
       "version_minor": 0
      },
      "text/plain": [
       "A Jupyter Widget"
      ]
     },
     "metadata": {},
     "output_type": "display_data"
    },
    {
     "name": "stdout",
     "output_type": "stream",
     "text": [
      "epoch      trn_loss   val_loss   accuracy   mapk       \n",
      "    0      2.928018   3.06954    0.161172   0.245299  \n",
      "    1      2.51679    2.343414   0.317216   0.435897  \n",
      "    2      2.276248   2.119987   0.383883   0.50525   \n",
      "    3      2.0906     2.010063   0.427106   0.534799  \n",
      "    4      1.978858   1.937294   0.462271   0.573748  \n",
      "    5      1.886082   1.768007   0.511355   0.60989   \n",
      "    6      1.802416   1.67414    0.541392   0.639316  \n",
      "    7      1.723549   1.780409   0.538462   0.639072  \n",
      "    8      1.585571   1.652374   0.547253   0.652747  \n",
      "    9      1.666462   1.770533   0.528938   0.630281  \n",
      "    10     1.469661   1.944879   0.499634   0.600855  \n",
      "    11     1.420495   1.441353   0.605128   0.696459  \n",
      "    12     1.34725    1.627997   0.589011   0.687424  \n",
      "    13     1.273888   1.51408    0.628571   0.714164  \n",
      "    14     1.190718   1.316584   0.657143   0.738462  \n",
      "    15     1.103097   1.347886   0.674725   0.745788  \n",
      "    16     1.00353    1.237399   0.694505   0.763614  \n",
      "    17     0.971167   1.320247   0.668864   0.749573  \n",
      "    18     0.912886   1.232286   0.709158   0.776435  \n",
      "    19     0.79561    1.217461   0.710623   0.782906  \n",
      "    20     0.699105   1.206048   0.723077   0.786081  \n",
      "    21     0.632013   1.118342   0.728938   0.794261  \n",
      "    22     0.586071   1.129127   0.728205   0.796459  \n",
      "    23     0.498387   1.08089    0.756044   0.812698  \n",
      "    24     0.441631   1.067207   0.749451   0.808669  \n",
      "    25     0.421129   1.166487   0.751648   0.807448  \n",
      "    26     0.391822   1.084792   0.754579   0.8116    \n",
      "    27     0.341848   1.14213    0.758242   0.814164  \n",
      "    28     0.352562   1.177026   0.748718   0.809402  \n",
      "    29     0.353362   1.120608   0.758974   0.815385  \n"
     ]
    }
   ],
   "source": [
    "lr = 1e-3\n",
    "cycle_len = 30\n",
    "\n",
    "learn.fit(lr, 1, cycle_len=cycle_len, use_clr_beta=(5, 20, 0.95, 0.75))\n",
    "# 3, 3, 3\n",
    "learn.save_cycle('24khz_1024_256_128_modified', cycle_len)"
   ]
  },
  {
   "cell_type": "code",
   "execution_count": null,
   "metadata": {},
   "outputs": [],
   "source": [
    "learn.load_cycle('24khz_1024_256_128_modified', cycle_len)\n",
    "\n",
    "val_log_preds, val_targs = learn.predict_with_targs()\n",
    "accuracy_np(val_log_preds, val_targs), mapk_np(val_log_preds, val_targs)"
   ]
  },
  {
   "cell_type": "code",
   "execution_count": null,
   "metadata": {},
   "outputs": [],
   "source": [
    "val_aug_preds, val_aug_targs = learn.TTA()\n",
    "preds = np.mean(val_aug_preds,0)\n",
    "accuracy_np(preds, val_aug_targs), mapk_np(preds, val_aug_targs)"
   ]
  },
  {
   "cell_type": "markdown",
   "metadata": {},
   "source": [
    "### Using the transformed audio files"
   ]
  },
  {
   "cell_type": "code",
   "execution_count": null,
   "metadata": {},
   "outputs": [],
   "source": [
    "trn_ds = AudioFilesDataset(TRAIN_PATH_LMS_TFM, trn_fname, trn_y, use_tfms=True, transform=trn_tfms)\n",
    "trn_dl = AudioDataLoader2d(trn_ds,\n",
    "                           batch_size=bs,\n",
    "                           sampler=SortishSampler(trn_ds, key=lambda x: trn_ds[x][0].shape[1], bs=bs))"
   ]
  },
  {
   "cell_type": "code",
   "execution_count": null,
   "metadata": {},
   "outputs": [],
   "source": [
    "md = ModelData(PATH, trn_dl, val_dl, test_dl)\n",
    "md.aug_dl = aug_dl\n",
    "md.test_aug_dl = test_aug_dl\n",
    "\n",
    "model = AudioResNet(BasicBlock, [3, 3, 3], num_classes=num_classes).cuda()\n",
    "learn = ConvLearner.from_model_data(model, md, crit=loss, metrics=metrics, opt_fn=opt)"
   ]
  },
  {
   "cell_type": "code",
   "execution_count": null,
   "metadata": {},
   "outputs": [],
   "source": [
    "learn.lr_find()\n",
    "learn.sched.plot(n_skip_end=100)"
   ]
  },
  {
   "cell_type": "code",
   "execution_count": null,
   "metadata": {},
   "outputs": [],
   "source": [
    "lr = 1e-3\n",
    "cycle_len = 30\n",
    "\n",
    "learn.fit(lr, 1, cycle_len=cycle_len, use_clr_beta=(5, 20, 0.95, 0.75))\n",
    "# 3, 3, 3\n",
    "learn.save_cycle('24khz_1024_256_128_data_aug_2', cycle_len)"
   ]
  },
  {
   "cell_type": "code",
   "execution_count": null,
   "metadata": {},
   "outputs": [],
   "source": [
    "learn.load_cycle('24khz_1024_256_128_data_aug_2', cycle_len)\n",
    "\n",
    "val_log_preds, val_targs = learn.predict_with_targs()\n",
    "accuracy_np(val_log_preds, val_targs), mapk_np(val_log_preds, val_targs)"
   ]
  },
  {
   "cell_type": "code",
   "execution_count": null,
   "metadata": {},
   "outputs": [],
   "source": [
    "val_aug_preds, val_aug_targs = learn.TTA()\n",
    "preds = np.mean(val_aug_preds,0)\n",
    "accuracy_np(preds, val_aug_targs), mapk_np(preds, val_aug_targs)"
   ]
  },
  {
   "cell_type": "code",
   "execution_count": null,
   "metadata": {},
   "outputs": [],
   "source": [
    "learn.load_cycle('24khz_1024_256_128_data_aug_2', cycle_len)\n",
    "\n",
    "lr=1e-4\n",
    "learn.fit(lr, 1, cycle_len=5, use_clr_beta=(5, 20, 0.95, 0.75))"
   ]
  },
  {
   "cell_type": "code",
   "execution_count": null,
   "metadata": {},
   "outputs": [],
   "source": [
    "learn.load_cycle('24khz_1024_256_128_data_aug_2', cycle_len)\n"
   ]
  },
  {
   "cell_type": "markdown",
   "metadata": {},
   "source": [
    "#### Predict results..."
   ]
  },
  {
   "cell_type": "code",
   "execution_count": null,
   "metadata": {},
   "outputs": [],
   "source": [
    "test_preds = learn.predict_with_targs(is_test=True)\n",
    "predictions = test_preds[0]\n",
    "predictions.shape"
   ]
  },
  {
   "cell_type": "code",
   "execution_count": null,
   "metadata": {},
   "outputs": [],
   "source": [
    "top_3 = np.array(labels)[np.argsort(-predictions, axis=1)[:, :3]]\n",
    "predicted_labels = [' '.join(list(x)) for x in top_3]\n",
    "test_csv.label = predicted_labels\n",
    "test_csv.to_csv('24K_first_fold_1.csv', index=False)\n",
    "test_csv.head()"
   ]
  },
  {
   "cell_type": "code",
   "execution_count": null,
   "metadata": {},
   "outputs": [],
   "source": [
    "test_preds_multi = learn.TTA(is_test=True)"
   ]
  },
  {
   "cell_type": "code",
   "execution_count": null,
   "metadata": {},
   "outputs": [],
   "source": [
    "test_preds_multi[0].shape"
   ]
  },
  {
   "cell_type": "code",
   "execution_count": null,
   "metadata": {},
   "outputs": [],
   "source": [
    "test_preds2 = np.mean(test_preds_multi[0],0)"
   ]
  },
  {
   "cell_type": "code",
   "execution_count": null,
   "metadata": {},
   "outputs": [],
   "source": [
    "test_preds2.shape"
   ]
  },
  {
   "cell_type": "code",
   "execution_count": null,
   "metadata": {},
   "outputs": [],
   "source": [
    "top_3 = np.array(labels)[np.argsort(-test_preds2, axis=1)[:, :3]]\n",
    "predicted_labels = [' '.join(list(x)) for x in top_3]\n",
    "test_csv.label = predicted_labels\n",
    "test_csv.to_csv('24K_first_fold_1_TTA.csv', index=False)\n",
    "test_csv.head()"
   ]
  },
  {
   "cell_type": "markdown",
   "metadata": {},
   "source": [
    "#### Try creating multiple models with different subsets of training data, ensemble results"
   ]
  },
  {
   "cell_type": "code",
   "execution_count": null,
   "metadata": {},
   "outputs": [],
   "source": [
    "bs = 16\n",
    "n_folds = 5\n",
    "lr = 1e-3\n",
    "cycle_len = 50\n",
    "\n",
    "for i, val_idx in enumerate(get_val_idx(train_y, n_folds=n_folds)):\n",
    "    ((val_fname, trn_fname), (val_y, trn_y)) = get_trn_val_split_from_folds(train_fname, train_y, val_idx)\n",
    "    \n",
    "    print('Fold', i+1)\n",
    "    \n",
    "    if i < 4:\n",
    "        continue\n",
    "    \n",
    "    trn_ds = AudioFilesDataset(TRAIN_PATH_LMS_TFM, trn_fname, trn_y, use_tfms=True, transform=trn_tfms)\n",
    "    trn_dl = AudioDataLoader2d(trn_ds,\n",
    "                               batch_size=bs,\n",
    "                               sampler=SortishSampler(trn_ds, key=lambda x: trn_ds[x][0].shape[1], bs=bs))\n",
    "\n",
    "    val_ds = AudioFilesDataset(TRAIN_PATH_LMS, val_fname, val_y, transform=val_tfms)\n",
    "    val_dl = AudioDataLoader2d(val_ds,\n",
    "                               batch_size=bs,\n",
    "                               sampler=SortSampler(val_ds, key=lambda x: val_ds[x][0].shape[1]))\n",
    "\n",
    "    md = ModelData(PATH, trn_dl, val_dl)\n",
    "    model = AudioResNet(BasicBlock, [2, 3, 3], num_classes=num_classes).cuda()\n",
    "    learn = ConvLearner.from_model_data(model, md, crit=loss, metrics=metrics, opt_fn=opt)\n",
    "    \n",
    "    fn = f'24Khz_1024_256_128_fold_{i}'\n",
    "    print(f'Starting fold: {fn} at {datetime.datetime.now()}')\n",
    "        \n",
    "    learn.fit(lr, 1, cycle_len=cycle_len, use_clr_beta=(5, 20, 0.95, 0.75))\n",
    "    print('Ending: ', datetime.datetime.now())\n",
    "    print('-----')\n",
    "\n",
    "    learn.save_cycle(fn, cycle_len)"
   ]
  },
  {
   "cell_type": "code",
   "execution_count": null,
   "metadata": {},
   "outputs": [],
   "source": [
    "md = ModelData(PATH, trn_dl, val_dl, test_dl)\n",
    "model = AudioResNet(BasicBlock, [2, 3, 3], num_classes=num_classes).cuda()\n",
    "learn = ConvLearner.from_model_data(model, md, crit=loss, metrics=metrics, opt_fn=opt)\n",
    "\n",
    "n_folds = 5\n",
    "all_preds = []\n",
    "for i in range(n_folds):\n",
    "    print('Predicting fold:', i)\n",
    "    weights_file = f'24Khz_1024_256_128_fold_{i}'\n",
    "    learn.load_cycle(weights_file, 50)\n",
    "    model_preds = learn.predict_with_targs(is_test=True)[0]\n",
    "    all_preds.append(model_preds)"
   ]
  },
  {
   "cell_type": "code",
   "execution_count": null,
   "metadata": {},
   "outputs": [],
   "source": [
    "final_pred = np.ones_like(all_preds[0])\n",
    "for p in all_preds:\n",
    "    final_pred *= np.exp(p / 10)\n",
    "final_pred = final_pred**(1./len(all_preds))\n",
    "final_pred.shape"
   ]
  },
  {
   "cell_type": "code",
   "execution_count": null,
   "metadata": {},
   "outputs": [],
   "source": [
    "top_3 = np.array(labels)[np.argsort(-final_pred, axis=1)[:, :3]]\n",
    "predicted_labels = [' '.join(list(x)) for x in top_3]\n",
    "test_csv.label = predicted_labels\n",
    "test_csv.to_csv('24k_1024_256_128_all_folds.csv', index=False)\n",
    "test_csv.head(10)"
   ]
  }
 ],
 "metadata": {
  "kernelspec": {
   "display_name": "Python 3",
   "language": "python",
   "name": "python3"
  },
  "language_info": {
   "codemirror_mode": {
    "name": "ipython",
    "version": 3
   },
   "file_extension": ".py",
   "mimetype": "text/x-python",
   "name": "python",
   "nbconvert_exporter": "python",
   "pygments_lexer": "ipython3",
   "version": "3.6.5"
  }
 },
 "nbformat": 4,
 "nbformat_minor": 2
}
